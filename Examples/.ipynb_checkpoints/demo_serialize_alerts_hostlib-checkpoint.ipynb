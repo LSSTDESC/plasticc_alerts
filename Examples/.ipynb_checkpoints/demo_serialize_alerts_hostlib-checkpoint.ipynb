{
 "cells": [
  {
   "cell_type": "markdown",
   "metadata": {},
   "source": [
    "## PLAsTiCC v2.0 alert simulation "
   ]
  },
  {
   "cell_type": "markdown",
   "metadata": {},
   "source": [
    "This is a demo of how we can add catalog simulations to LSST alerts in avro forma, which the Rubin project is using. \n",
    "This workbook includes the contributions of Rahul Biswas, Cameron Stockton, Martine Lokken, Alex Gagliano, Gautham Narayan, Renée Hlozek and the rest of the PLAsTiCC v2.0 team, and the DESC Alerts Topical Team."
   ]
  },
  {
   "cell_type": "markdown",
   "metadata": {},
   "source": [
    "Follow the README of this repository and then the README of `alert_packet` for setup. This involves installing `alert_packet` in some way."
   ]
  },
  {
   "cell_type": "markdown",
   "metadata": {},
   "source": [
    "This notebook is based on the examples and codes in `alert_packet` :https://github.com/lsst/alert_packet"
   ]
  },
  {
   "cell_type": "code",
   "execution_count": 1,
   "metadata": {},
   "outputs": [],
   "source": [
    "from IPython.display import Image\n",
    "#Image(filename='alert.jpg', width = 800) "
   ]
  },
  {
   "cell_type": "code",
   "execution_count": 2,
   "metadata": {},
   "outputs": [],
   "source": [
    "import lsst.alert.packet"
   ]
  },
  {
   "cell_type": "code",
   "execution_count": 3,
   "metadata": {},
   "outputs": [],
   "source": [
    "from pathlib import Path\n",
    "import matplotlib.pyplot as plt\n",
    "import os\n",
    "from copy import copy\n",
    "import json\n",
    "from collections import OrderedDict as odict\n",
    "\n",
    "import numpy as np\n",
    "from astropy.io import fits\n",
    "from astropy.table import Table, vstack"
   ]
  },
  {
   "cell_type": "code",
   "execution_count": 4,
   "metadata": {},
   "outputs": [],
   "source": [
    "import json\n",
    "import pandas as pd\n",
    "from astropy.io import fits\n",
    "import numpy as np\n",
    "from astropy.time import Time\n",
    "import glob\n",
    "from fastavro import writer, reader\n",
    "HOSTLIB_host=True"
   ]
  },
  {
   "cell_type": "code",
   "execution_count": 5,
   "metadata": {},
   "outputs": [],
   "source": [
    "# taken from sncosmo\n",
    "def read_snana_fits(head_file, phot_file, snids=None, n=None):\n",
    "    \"\"\"Read the SNANA FITS format: two FITS files jointly representing\n",
    "    metadata and photometry for a set of SNe.\n",
    "\n",
    "    Parameters\n",
    "    ----------\n",
    "    head_file : str\n",
    "        Filename of \"HEAD\" (\"header\") FITS file.\n",
    "    phot_file : str\n",
    "        Filename of \"PHOT\" (\"photometry\") FITS file.\n",
    "    snids : list of str, optional\n",
    "        If given, only return the single entry with the matching SNIDs.\n",
    "    n : int\n",
    "        If given, only return the first `n` entries.\n",
    "\n",
    "    Returns\n",
    "    -------\n",
    "    sne : list of `~astropy.table.Table`\n",
    "        Each item in the list is an astropy Table instance.\n",
    "\n",
    "    Notes\n",
    "    -----\n",
    "    If `head_file` contains a column 'SNID' containing strings, leading and\n",
    "    trailing whitespace is stripped from all the values in that column.\n",
    "\n",
    "    If `phot_file` contains a column 'FLT', leading and trailing whitespace\n",
    "    is stripped from all the values in that column.\n",
    "\n",
    "    Examples\n",
    "    --------\n",
    "    >>> sne = read_snana_fits('HEAD.fits', 'PHOT.fits')\n",
    "    >>> for sn in sne:\n",
    "    ...     sn.meta  # Metadata in an OrderedDict.\n",
    "    ...     sn['MJD']  # MJD column\n",
    "\n",
    "    \"\"\"\n",
    "\n",
    "    # Should we memmap? Only if we're going to read only a part of the file\n",
    "    memmap = (snids is not None or n is not None)\n",
    "\n",
    "    # Get metadata for all the SNe\n",
    "    head_data = fits.getdata(head_file, 1, view=np.ndarray)\n",
    "    phot_data = fits.getdata(phot_file, 1, view=np.ndarray, memmap=memmap)\n",
    "\n",
    "    # Strip trailing whitespace characters from SNID.\n",
    "    if 'SNID' in head_data.dtype.names:\n",
    "        try:\n",
    "            head_data['SNID'][:] = np.char.strip(head_data['SNID'])\n",
    "        except TypeError:\n",
    "            pass\n",
    "\n",
    "    # Check which indicies to return.\n",
    "    if snids is None and n is None:\n",
    "        idx = range(len(head_data))\n",
    "    elif n is None:\n",
    "        if 'SNID' not in head_data.dtype.names:\n",
    "            raise RuntimeError('Specific snids requested, but head file does'\n",
    "                               ' not contain SNID column')\n",
    "        idx = []\n",
    "        for snid in snids:\n",
    "            i = np.flatnonzero(head_data['SNID'] == snid)\n",
    "            if len(i) != 1:\n",
    "                raise RuntimeError('Unique snid requested, but there are '\n",
    "                                   '{0:d} matching entries'.format(len(i)))\n",
    "            idx.append(i[0])\n",
    "    elif snids is None:\n",
    "        idx = range(n)\n",
    "    else:\n",
    "        raise ValueError(\"cannot specify both 'snids' and 'n' arguments\")\n",
    "\n",
    "    # Loop over SNe in HEAD file\n",
    "    sne = []\n",
    "    for i in idx:\n",
    "        meta = odict(zip(head_data.dtype.names, head_data[i]))\n",
    "\n",
    "        j0 = head_data['PTROBS_MIN'][i] - 1\n",
    "        j1 = head_data['PTROBS_MAX'][i]\n",
    "        data = phot_data[j0:j1]\n",
    "        if 'BAND' in data.dtype.names:\n",
    "            data['BAND'][:] = np.char.strip(data['BAND'])\n",
    "        sne.append(Table(data, meta=meta, copy=False))\n",
    "\n",
    "    return sne"
   ]
  },
  {
   "cell_type": "markdown",
   "metadata": {},
   "source": [
    "### These functions will enable us to plot the output from our avro object\n",
    "Example functions taken from https://github.com/ZwickyTransientFacility/ztf-avro-alert/blob/master/notebooks/Working_with_avro_files.ipynb"
   ]
  },
  {
   "cell_type": "code",
   "execution_count": 6,
   "metadata": {},
   "outputs": [],
   "source": [
    "def make_dataframe(packet):\n",
    "    df = pd.DataFrame(packet['diaSource'], index=[0])\n",
    "    df_prv = pd.DataFrame(packet['prvDiaSources'])\n",
    "    return pd.concat([df,df_prv], ignore_index=True)\n",
    "\n",
    "def plot_lightcurve(dflc, days_ago=True):\n",
    "    \n",
    "    filter_color = {'g':'green', 'r':'red', 'u':'pink'}\n",
    "    if days_ago:\n",
    "        now = Time.now().jd\n",
    "        t = dflc.midPointTai - now\n",
    "        xlabel = 'Days Ago'\n",
    "    else:\n",
    "        t = dflc.midPointTai\n",
    "        xlabel = 'Time (JD)'\n",
    "    \n",
    "    plt.figure()\n",
    "    \n",
    "    for fid, color in filter_color.items():\n",
    "        # plot detections in this filter:\n",
    "        w = (dflc.filterName == fid) & ~dflc.psFlux.isnull()\n",
    "        if np.sum(w):\n",
    "            plt.errorbar(t[w],dflc.loc[w,'apFlux'], dflc.loc[w,'apFluxErr'],fmt='.',color=color)\n",
    "            \n",
    "        else:\n",
    "            plt.errorbar(t[w],dflc.loc[w,'apFlux'], dflc.loc[w,'apFluxErr'],fmt='.',color=color)\n",
    "                \n",
    "        #wnodet = (dflc.fid == fid) & dflc.magpsf.isnull()\n",
    "        #if np.sum(wnodet):\n",
    "         #   plt.scatter(t[wnodet],dflc.loc[wnodet,'diffmaglim'], marker='v',color=color,alpha=0.25)\n",
    "    \n",
    "    plt.gca().invert_yaxis()\n",
    "    plt.xlabel(xlabel)\n",
    "    plt.ylabel('Magnitude')"
   ]
  },
  {
   "cell_type": "markdown",
   "metadata": {},
   "source": [
    "### Let's read in the schema from the Rubin alert.packet \n",
    "In this case we are modifying the usual alert schema to have (lots of) additional information in it. The expected list of host information will be more like host magnitudes and host errors, the light profile moments and PSF information. "
   ]
  },
  {
   "cell_type": "code",
   "execution_count": 7,
   "metadata": {},
   "outputs": [],
   "source": [
    "import os\n",
    "os.chdir(\"../Examples\")"
   ]
  },
  {
   "cell_type": "code",
   "execution_count": 9,
   "metadata": {},
   "outputs": [],
   "source": [
    "# For those interested in modified alert schemas, this is included in the repo as an example, modified from the `alert_packet' repo\n",
    "#schema = lsst.alert.packet.Schema.from_file('./plasticc_schema/lsst.v4_1.alert.avsc','lsst.v4_1.alert')\n",
    "schema = lsst.alert.packet.Schema.from_file(filename='./plasticc_schema/lsst.v4_1.alert.avsc')"
   ]
  },
  {
   "cell_type": "markdown",
   "metadata": {},
   "source": [
    "We now read in an example json file that matches our schema."
   ]
  },
  {
   "cell_type": "code",
   "execution_count": 10,
   "metadata": {},
   "outputs": [],
   "source": [
    "path = Path('./plasticc_schema/sample_data/')\n",
    "with open(path/'plasticc.json') as f:\n",
    "    alert_data = json.load(f)"
   ]
  },
  {
   "cell_type": "markdown",
   "metadata": {},
   "source": [
    "\n",
    "### What does the alert data schema look like?\n",
    "It has one diaSource object for the current epoch"
   ]
  },
  {
   "cell_type": "code",
   "execution_count": 11,
   "metadata": {},
   "outputs": [
    {
     "data": {
      "text/plain": [
       "{'diaSourceId': 281323062375219200,\n",
       " 'ccdVisitId': 111111,\n",
       " 'midPointTai': 1480360995,\n",
       " 'filterName': 'r',\n",
       " 'programId': 1,\n",
       " 'ra': 351.570546978,\n",
       " 'decl': 0.126243049656,\n",
       " 'raSigma': 0.00028,\n",
       " 'declSigma': 0.00028,\n",
       " 'ra_decl_Cov': 0.00029,\n",
       " 'x': 112.1,\n",
       " 'y': 121.1,\n",
       " 'xSigma': 1.2,\n",
       " 'ySigma': 1.1,\n",
       " 'x_y_Cov': 1.2,\n",
       " 'apFlux': 1241.0,\n",
       " 'apFluxErr': 12.0,\n",
       " 'snr': 41.1,\n",
       " 'psFlux': 1241.0,\n",
       " 'psFluxErr': 12.0,\n",
       " 'flags': 0,\n",
       " 'nobs': 0,\n",
       " 'mwebv': 0,\n",
       " 'mwebv_err': 0,\n",
       " 'z_final': 0,\n",
       " 'z_final_err': 0,\n",
       " 'ellipticity': 0,\n",
       " 'size': 0,\n",
       " 'hostgal_z': 0,\n",
       " 'hostgal_mag_u': 0,\n",
       " 'hostgal_mag_g': 0,\n",
       " 'hostgal_mag_r': 0,\n",
       " 'hostgal_mag_i': 0,\n",
       " 'hostgal_mag_z': 0,\n",
       " 'hostgal_ra': 0,\n",
       " 'hostgal_dec': 0,\n",
       " 'hostgal_snsep': 0,\n",
       " 'hostgal_magerr_u': 0,\n",
       " 'hostgal_magerr_g': 0,\n",
       " 'hostgal_magerr_r': 0,\n",
       " 'hostgal_magerr_i': 0,\n",
       " 'hostgal_magerr_z': 0,\n",
       " 'ellipticity2': 0,\n",
       " 'size2': 0,\n",
       " 'hostgal2_z': 0,\n",
       " 'hostgal2_mag_u': 0,\n",
       " 'hostgal2_mag_g': 0,\n",
       " 'hostgal2_mag_r': 0,\n",
       " 'hostgal2_mag_i': 0,\n",
       " 'hostgal2_mag_z': 0,\n",
       " 'hostgal2_ra': 0,\n",
       " 'hostgal2_dec': 0,\n",
       " 'hostgal2_snsep': 0,\n",
       " 'hostgal2_magerr_u': 0,\n",
       " 'hostgal2_magerr_g': 0,\n",
       " 'hostgal2_magerr_r': 0,\n",
       " 'hostgal2_magerr_i': 0,\n",
       " 'hostgal2_magerr_z': 0}"
      ]
     },
     "execution_count": 11,
     "metadata": {},
     "output_type": "execute_result"
    }
   ],
   "source": [
    "alert_data['diaSource']"
   ]
  },
  {
   "cell_type": "markdown",
   "metadata": {},
   "source": [
    "### What about previous diaSources?\n",
    "The previous diaSources for this diaObject are also nested in the schema"
   ]
  },
  {
   "cell_type": "code",
   "execution_count": 12,
   "metadata": {},
   "outputs": [
    {
     "data": {
      "text/plain": [
       "[{'diaSourceId': 281323062375219198,\n",
       "  'ccdVisitId': 111111,\n",
       "  'midPointTai': 1480360995,\n",
       "  'filterName': 'r',\n",
       "  'programId': 1,\n",
       "  'ra': 351.570546978,\n",
       "  'decl': 0.126243049656,\n",
       "  'raSigma': 0.00028,\n",
       "  'declSigma': 0.00028,\n",
       "  'ra_decl_Cov': 0.00029,\n",
       "  'x': 112.1,\n",
       "  'y': 121.1,\n",
       "  'xSigma': 1.2,\n",
       "  'ySigma': 1.1,\n",
       "  'x_y_Cov': 1.2,\n",
       "  'apFlux': 1241.0,\n",
       "  'apFluxErr': 12.0,\n",
       "  'snr': 41.1,\n",
       "  'psFlux': 1241.0,\n",
       "  'psFluxErr': 12.0,\n",
       "  'flags': 0,\n",
       "  'nobs': 0,\n",
       "  'mwebv': 0,\n",
       "  'mwebv_err': 0,\n",
       "  'z_final': 0,\n",
       "  'z_final_err': 0,\n",
       "  'ellipticity': 0,\n",
       "  'size': 0,\n",
       "  'hostgal_z': 0,\n",
       "  'hostgal_mag_u': 0,\n",
       "  'hostgal_mag_g': 0,\n",
       "  'hostgal_mag_r': 0,\n",
       "  'hostgal_mag_i': 0,\n",
       "  'hostgal_mag_z': 0,\n",
       "  'hostgal_ra': 0,\n",
       "  'hostgal_dec': 0,\n",
       "  'hostgal_snsep': 0,\n",
       "  'hostgal_magerr_u': 0,\n",
       "  'hostgal_magerr_g': 0,\n",
       "  'hostgal_magerr_r': 0,\n",
       "  'hostgal_magerr_i': 0,\n",
       "  'hostgal_magerr_z': 0,\n",
       "  'ellipticity2': 0,\n",
       "  'size2': 0,\n",
       "  'hostgal2_z': 0,\n",
       "  'hostgal2_mag_u': 0,\n",
       "  'hostgal2_mag_g': 0,\n",
       "  'hostgal2_mag_r': 0,\n",
       "  'hostgal2_mag_i': 0,\n",
       "  'hostgal2_mag_z': 0,\n",
       "  'hostgal2_ra': 0,\n",
       "  'hostgal2_dec': 0,\n",
       "  'hostgal2_snsep': 0,\n",
       "  'hostgal2_magerr_u': 0,\n",
       "  'hostgal2_magerr_g': 0,\n",
       "  'hostgal2_magerr_r': 0,\n",
       "  'hostgal2_magerr_i': 0,\n",
       "  'hostgal2_magerr_z': 0},\n",
       " {'diaSourceId': 281323062375219199,\n",
       "  'ccdVisitId': 111111,\n",
       "  'midPointTai': 1480360995,\n",
       "  'filterName': 'r',\n",
       "  'programId': 1,\n",
       "  'ra': 351.570546978,\n",
       "  'decl': 0.126243049656,\n",
       "  'raSigma': 0.00028,\n",
       "  'declSigma': 0.00028,\n",
       "  'ra_decl_Cov': 0.00029,\n",
       "  'x': 112.1,\n",
       "  'y': 121.1,\n",
       "  'xSigma': 1.2,\n",
       "  'ySigma': 1.1,\n",
       "  'x_y_Cov': 1.2,\n",
       "  'apFlux': 1241.0,\n",
       "  'apFluxErr': 12.0,\n",
       "  'snr': 41.1,\n",
       "  'psFlux': 1241.0,\n",
       "  'psFluxErr': 12.0,\n",
       "  'flags': 0,\n",
       "  'nobs': 0,\n",
       "  'mwebv': 0,\n",
       "  'mwebv_err': 0,\n",
       "  'z_final': 0,\n",
       "  'z_final_err': 0,\n",
       "  'ellipticity': 0,\n",
       "  'size': 0,\n",
       "  'hostgal_z': 0,\n",
       "  'hostgal_mag_u': 0,\n",
       "  'hostgal_mag_g': 0,\n",
       "  'hostgal_mag_r': 0,\n",
       "  'hostgal_mag_i': 0,\n",
       "  'hostgal_mag_z': 0,\n",
       "  'hostgal_ra': 0,\n",
       "  'hostgal_dec': 0,\n",
       "  'hostgal_snsep': 0,\n",
       "  'hostgal_magerr_u': 0,\n",
       "  'hostgal_magerr_g': 0,\n",
       "  'hostgal_magerr_r': 0,\n",
       "  'hostgal_magerr_i': 0,\n",
       "  'hostgal_magerr_z': 0,\n",
       "  'ellipticity2': 0,\n",
       "  'size2': 0,\n",
       "  'hostgal2_z': 0,\n",
       "  'hostgal2_mag_u': 0,\n",
       "  'hostgal2_mag_g': 0,\n",
       "  'hostgal2_mag_r': 0,\n",
       "  'hostgal2_mag_i': 0,\n",
       "  'hostgal2_mag_z': 0,\n",
       "  'hostgal2_ra': 0,\n",
       "  'hostgal2_dec': 0,\n",
       "  'hostgal2_snsep': 0,\n",
       "  'hostgal2_magerr_u': 0,\n",
       "  'hostgal2_magerr_g': 0,\n",
       "  'hostgal2_magerr_r': 0,\n",
       "  'hostgal2_magerr_i': 0,\n",
       "  'hostgal2_magerr_z': 0}]"
      ]
     },
     "execution_count": 12,
     "metadata": {},
     "output_type": "execute_result"
    }
   ],
   "source": [
    "alert_data['prvDiaSources']"
   ]
  },
  {
   "cell_type": "markdown",
   "metadata": {},
   "source": [
    "This alert schema is just a dictionary: next we will read data from SNANA and write it to the values of the correct keys. We start by pulling off the first record to overwrite with SNANA information"
   ]
  },
  {
   "cell_type": "code",
   "execution_count": 13,
   "metadata": {},
   "outputs": [],
   "source": [
    "diasrc = alert_data['prvDiaSources'][0]"
   ]
  },
  {
   "cell_type": "code",
   "execution_count": 14,
   "metadata": {},
   "outputs": [
    {
     "data": {
      "text/plain": [
       "dict_keys(['diaSourceId', 'ccdVisitId', 'midPointTai', 'filterName', 'programId', 'ra', 'decl', 'raSigma', 'declSigma', 'ra_decl_Cov', 'x', 'y', 'xSigma', 'ySigma', 'x_y_Cov', 'apFlux', 'apFluxErr', 'snr', 'psFlux', 'psFluxErr', 'flags', 'nobs', 'mwebv', 'mwebv_err', 'z_final', 'z_final_err', 'ellipticity', 'size', 'hostgal_z', 'hostgal_mag_u', 'hostgal_mag_g', 'hostgal_mag_r', 'hostgal_mag_i', 'hostgal_mag_z', 'hostgal_ra', 'hostgal_dec', 'hostgal_snsep', 'hostgal_magerr_u', 'hostgal_magerr_g', 'hostgal_magerr_r', 'hostgal_magerr_i', 'hostgal_magerr_z', 'ellipticity2', 'size2', 'hostgal2_z', 'hostgal2_mag_u', 'hostgal2_mag_g', 'hostgal2_mag_r', 'hostgal2_mag_i', 'hostgal2_mag_z', 'hostgal2_ra', 'hostgal2_dec', 'hostgal2_snsep', 'hostgal2_magerr_u', 'hostgal2_magerr_g', 'hostgal2_magerr_r', 'hostgal2_magerr_i', 'hostgal2_magerr_z'])"
      ]
     },
     "execution_count": 14,
     "metadata": {},
     "output_type": "execute_result"
    }
   ],
   "source": [
    "diasrc.keys()"
   ]
  },
  {
   "cell_type": "markdown",
   "metadata": {},
   "source": [
    "## Taking an SNANA file and porting information to alert\n",
    "We will pull off models from the PLAsTiCC v2.0 DDF simulation, and assign the info to the alert packet. Note that we are adding information that isn't in the defined in the original LSST schema for this round. The following code takes the photometry and header files from SNANA and pushes them to a diaSource object for an index/epoch"
   ]
  },
  {
   "cell_type": "code",
   "execution_count": 16,
   "metadata": {},
   "outputs": [],
   "source": [
    "def import_diasrc_from_fits(sn, my_diasrc,hostlib_flag=True,i=0):\n",
    "    \n",
    "        my_diasrc['filterName'] = sn['BAND'][i]     \n",
    "        my_diasrc['apFlux'] = sn['FLUXCAL'][i]\n",
    "        my_diasrc['apFluxErr'] = sn['FLUXCALERR'][i]\n",
    "        my_diasrc['snr'] = sn['FLUXCAL'][i]/sn['FLUXCALERR'][i]\n",
    "        my_diasrc['midPointTai'] = sn['MJD'][i]\n",
    "    \n",
    "        # General properties\n",
    "        my_diasrc['ra'] = sn.meta['RA']\n",
    "        my_diasrc['decl'] = sn.meta['DEC']\n",
    "        my_diasrc['nobs'] = sn.meta['NOBS']\n",
    "        my_diasrc['mwebv'] = sn.meta['MWEBV']\n",
    "        my_diasrc['mwebv_err'] = sn.meta['MWEBV_ERR']\n",
    "        my_diasrc['z_final'] = sn.meta['REDSHIFT_FINAL']\n",
    "        my_diasrc['z_final_err'] = sn.meta['REDSHIFT_FINAL_ERR']\n",
    "        my_diasrc['hostgal_ra'] = sn.meta['HOSTGAL_RA']\n",
    "        my_diasrc['hostgal_dec'] = sn.meta['HOSTGAL_DEC']\n",
    "        my_diasrc['hostgal_snsep']= sn.meta['HOSTGAL_SNSEP']\n",
    "        my_diasrc['hostgal_z']=sn.meta['HOSTGAL_SPECZ']\n",
    "        my_diasrc['hostgal_z_err']=sn.meta['HOSTGAL_SPECZ_ERR']   \n",
    "        my_diasrc['hostgal_mag_u']= sn.meta['HOSTGAL_MAG_u']\n",
    "        my_diasrc['hostgal_mag_g']= sn.meta['HOSTGAL_MAG_g']\n",
    "        my_diasrc['hostgal_mag_r']= sn.meta['HOSTGAL_MAG_r']\n",
    "        my_diasrc['hostgal_mag_i']= sn.meta['HOSTGAL_MAG_i']\n",
    "        my_diasrc['hostgal_mag_z']= sn.meta['HOSTGAL_MAG_z']\n",
    "        my_diasrc['hostgal_mag_Y']= sn.meta['HOSTGAL_MAG_Y']\n",
    "        my_diasrc['hostgal_magerr_u']= sn.meta['HOSTGAL_MAGERR_u']\n",
    "        my_diasrc['hostgal_magerr_g']= sn.meta['HOSTGAL_MAGERR_g']\n",
    "        my_diasrc['hostgal_magerr_r']= sn.meta['HOSTGAL_MAGERR_r']\n",
    "        my_diasrc['hostgal_magerr_i']= sn.meta['HOSTGAL_MAGERR_i']\n",
    "        my_diasrc['hostgal_magerr_z']= sn.meta['HOSTGAL_MAGERR_z']\n",
    "        \n",
    "        my_diasrc['hostgal2_ra'] = sn.meta['HOSTGAL2_RA']\n",
    "        my_diasrc['hostgal2_dec'] = sn.meta['HOSTGAL2_DEC']\n",
    "        my_diasrc['hostgal2_snsep']= sn.meta['HOSTGAL2_SNSEP']\n",
    "        my_diasrc['hostgal2_z']=sn.meta['HOSTGAL2_SPECZ']\n",
    "        my_diasrc['hostgal2_z_err']=sn.meta['HOSTGAL2_SPECZ_ERR']   \n",
    "        my_diasrc['hostgal2_mag_u']= sn.meta['HOSTGAL2_MAG_u']\n",
    "        my_diasrc['hostgal2_mag_g']= sn.meta['HOSTGAL2_MAG_g']\n",
    "        my_diasrc['hostgal2_mag_r']= sn.meta['HOSTGAL2_MAG_r']\n",
    "        my_diasrc['hostgal2_mag_i']= sn.meta['HOSTGAL2_MAG_i']\n",
    "        my_diasrc['hostgal2_mag_z']= sn.meta['HOSTGAL2_MAG_z']\n",
    "        my_diasrc['hostgal2_mag_Y']= sn.meta['HOSTGAL2_MAG_Y']\n",
    "        my_diasrc['hostgal2_magerr_u']= sn.meta['HOSTGAL2_MAGERR_u']\n",
    "        my_diasrc['hostgal2_magerr_g']= sn.meta['HOSTGAL2_MAGERR_g']\n",
    "        my_diasrc['hostgal2_magerr_r']= sn.meta['HOSTGAL2_MAGERR_r']\n",
    "        my_diasrc['hostgal2_magerr_i']= sn.meta['HOSTGAL2_MAGERR_i']\n",
    "        my_diasrc['hostgal2_magerr_z']= sn.meta['HOSTGAL2_MAGERR_z']\n",
    "        \n",
    "        if hostlib_flag:\n",
    "            # properties of the host galaxy\n",
    "           # print('using HOSTLIB values')\n",
    "            my_diasrc['ellipticity'] = sn.meta['SIM_HOSTLIB(TOTAL_ELLIPTICITY)']\n",
    "            my_diasrc['size'] = sn.meta['SIM_HOSTLIB(radius)']\n",
    "            my_diasrc['hostgal_mag_u'] = sn.meta['SIM_HOSTLIB(mag_true_u_lsst)']\n",
    "            my_diasrc['hostgal_mag_g'] = sn.meta['SIM_HOSTLIB(mag_true_g_lsst)']\n",
    "            my_diasrc['hostgal_mag_r'] = sn.meta['SIM_HOSTLIB(mag_true_r_lsst)']\n",
    "            my_diasrc['hostgal_mag_i'] = sn.meta['SIM_HOSTLIB(mag_true_i_lsst)']\n",
    "            my_diasrc['hostgal_mag_z'] = sn.meta['SIM_HOSTLIB(mag_true_z_lsst)']\n",
    "            my_diasrc['hostgal_mag_Y'] = sn.meta['SIM_HOSTLIB(mag_true_Y_lsst)']\n",
    "            \n",
    "            my_diasrc['ellipticity2'] = sn.meta['SIM_HOSTLIB(TOTAL_ELLIPTICITY)']\n",
    "            my_diasrc['size2'] = sn.meta['SIM_HOSTLIB(radius)']\n",
    "            my_diasrc['hostgal2_mag_u'] = sn.meta['HOSTGAL2_MAG_u']\n",
    "            my_diasrc['hostgal2_mag_g'] = sn.meta['HOSTGAL2_MAG_g']\n",
    "            my_diasrc['hostgal2_mag_r'] = sn.meta['HOSTGAL2_MAG_r']\n",
    "            my_diasrc['hostgal2_mag_i'] = sn.meta['HOSTGAL2_MAG_i']\n",
    "            my_diasrc['hostgal2_mag_z'] = sn.meta['HOSTGAL2_MAG_z']\n",
    "            my_diasrc['hostgal2_mag_Y'] = sn.meta['HOSTGAL2_MAG_Y']\n",
    "            \n",
    "            my_diasrc['hostgal_magerr_u']= sn.meta['SIM_HOSTLIB(u_obs_err)']\n",
    "            my_diasrc['hostgal_magerr_g']= sn.meta['SIM_HOSTLIB(g_obs_err)']\n",
    "            my_diasrc['hostgal_magerr_r']= sn.meta['SIM_HOSTLIB(r_obs_err)']\n",
    "            my_diasrc['hostgal_magerr_i']= sn.meta['SIM_HOSTLIB(i_obs_err)']\n",
    "            my_diasrc['hostgal_magerr_z']= sn.meta['SIM_HOSTLIB(z_obs_err)']\n",
    "            my_diasrc['hostgal_magerr_Y']= sn.meta['SIM_HOSTLIB(Y_obs_err)']\n",
    "            \n",
    "            my_diasrc['hostgal2_magerr_u']= sn.meta['SIM_HOSTLIB(u_obs_err)']\n",
    "            my_diasrc['hostgal2_magerr_g']= sn.meta['SIM_HOSTLIB(g_obs_err)']\n",
    "            my_diasrc['hostgal2_magerr_r']= sn.meta['SIM_HOSTLIB(r_obs_err)']\n",
    "            my_diasrc['hostgal2_magerr_i']= sn.meta['SIM_HOSTLIB(i_obs_err)']\n",
    "            my_diasrc['hostgal2_magerr_z']= sn.meta['SIM_HOSTLIB(z_obs_err)']\n",
    "            my_diasrc['hostgal2_magerr_Y']= sn.meta['SIM_HOSTLIB(Y_obs_err)']\n",
    "   \n",
    "        return my_diasrc"
   ]
  },
  {
   "cell_type": "markdown",
   "metadata": {},
   "source": [
    "Now we read in the data from a particular SNANA model. In this case we are using a small SNANA simulation that includes the host properties (from work by Martine Lokken and Alex Gagliano). The full PLAsTiCC suite will contain alerts for a range of different objects from a variety of models."
   ]
  },
  {
   "cell_type": "code",
   "execution_count": 18,
   "metadata": {},
   "outputs": [],
   "source": [
    "savedir='/global/homes/a/agaglian/new_plasticc_alerts/plasticc_alerts/hostSims'\n",
    "os.chdir(savedir)\n",
    "retval = \"../Examples\"\n",
    "simdir='../hostSims/'\n",
    "os.chdir(simdir)\n",
    "modelname = glob.glob('*MODEL*')\n",
    "num_sne =3 #how many supernova alerts you want to make"
   ]
  },
  {
   "cell_type": "code",
   "execution_count": 19,
   "metadata": {},
   "outputs": [
    {
     "name": "stdout",
     "output_type": "stream",
     "text": [
      "Running alerts for the model list: ['MLAG_HOSTLIB_Ia_NONIaMODEL0']\n",
      "Saving model MLAG_HOSTLIB_Ia_NONIaMODEL0 as plasticcAlert_MLAG_HOSTLIB_Ia_NONIaMODEL0_0.avro\n",
      "Saving model MLAG_HOSTLIB_Ia_NONIaMODEL0 as plasticcAlert_MLAG_HOSTLIB_Ia_NONIaMODEL0_1.avro\n",
      "Saving model MLAG_HOSTLIB_Ia_NONIaMODEL0 as plasticcAlert_MLAG_HOSTLIB_Ia_NONIaMODEL0_2.avro\n",
      "Done saving models for ['MLAG_HOSTLIB_Ia_NONIaMODEL0']\n",
      "Done saving all models\n"
     ]
    },
    {
     "data": {
      "text/plain": [
       "<Figure size 864x4320 with 0 Axes>"
      ]
     },
     "metadata": {},
     "output_type": "display_data"
    },
    {
     "data": {
      "image/png": "[encoded data removed]",
      "text/plain": [
       "<Figure size 432x288 with 1 Axes>"
      ]
     },
     "metadata": {
      "needs_background": "light"
     },
     "output_type": "display_data"
    },
    {
     "data": {
      "image/png": "[encoded data removed]",
      "text/plain": [
       "<Figure size 432x288 with 1 Axes>"
      ]
     },
     "metadata": {
      "needs_background": "light"
     },
     "output_type": "display_data"
    },
    {
     "data": {
      "image/png": "[encoded data removed]",
      "text/plain": [
       "<Figure size 432x288 with 1 Axes>"
      ]
     },
     "metadata": {
      "needs_background": "light"
     },
     "output_type": "display_data"
    }
   ],
   "source": [
    "os.chdir(retval)\n",
    "print(f\"Running alerts for the model list: {modelname}\")\n",
    "\n",
    "path = Path('plasticc_schema/sample_data')\n",
    "with open(path/'plasticc.json') as f:\n",
    "    alert_data_orig = json.load(f)\n",
    "    \n",
    "#print(alert_data_orig)\n",
    "    \n",
    "fig = plt.figure(figsize=(12,60))\n",
    "number_of_subplots=len(modelname)\n",
    "#print(number_of_subplots)\n",
    "\n",
    "for countm,name in enumerate(modelname):\n",
    "    #print(name)\n",
    "    # Open the photometry file and the header files\n",
    "    name_head=simdir+'/'+name+'/'+'%s-0001_HEAD.FITS.gz'%name\n",
    "    name_phot=simdir+'/'+name+'/'+'%s-0001_PHOT.FITS.gz'%name\n",
    "    \n",
    "    sne = read_snana_fits(name_head, name_phot)\n",
    "    \n",
    "    \n",
    "    #print(sne[0].meta)\n",
    "    #print('-----')\n",
    "    for iterNum,sn in enumerate(sne[0:num_sne]):\n",
    "        #print(sn.colnames)\n",
    "        ra = sn.meta['RA']\n",
    "        mjd = sn['MJD']\n",
    "        #print(sn['FLUXCALERR'])\n",
    "        alert = copy(alert_data_orig)\n",
    "    \n",
    "        diasrc = alert_data_orig['prvDiaSources'][0]\n",
    "        my_diasrc = copy(diasrc)\n",
    "        alert = copy(alert_data_orig)\n",
    "        alert['prvDiaSources'].clear()\n",
    "\n",
    "\n",
    "        # Make a dummy source ID and import additional information to the diaSource\n",
    "        my_diasrc['diaSourceId'] = np.int64(28132306237521+1000*np.random.uniform())\n",
    "        my_diasrc = import_diasrc_from_fits(sn,my_diasrc,HOSTLIB_host,i=0)\n",
    "        alert['diaSource'] = my_diasrc\n",
    "        \n",
    "        for j, day in enumerate(mjd):\n",
    "            my_diasrc = copy(diasrc)\n",
    "            my_diasrc['diaSourceId'] = my_diasrc['diaSourceId']+j+1\n",
    "            plt.figure(iterNum*100)\n",
    "            #print(mjd[j],sn['FLUXCAL'][j])\n",
    "            #print(sn['FLUXCALERR'][j])\n",
    "            plt.scatter(day,sn['FLUXCAL'][j], marker='o' )\n",
    "            my_diasrc = import_diasrc_from_fits(sn,my_diasrc,HOSTLIB_host,i=j)\n",
    "            alert['prvDiaSources'].append(alert['diaSource'])\n",
    "\n",
    "        # serialize the alert    \n",
    "        avro_bytes = schema.serialize(alert)\n",
    "        messg = schema.deserialize(avro_bytes)\n",
    "        \n",
    "\n",
    "        with open(\"plasticcAlert_%s_%i.avro\"%(name,iterNum), \"wb\") as f:\n",
    "            schema.store_alerts(f, [alert])\n",
    "        print(f\"Saving model {name} as plasticcAlert_{name}_{iterNum}.avro\")\n",
    "\n",
    "    print(f\"Done saving models for {modelname}\")\n",
    "print(f\"Done saving all models\")\n"
   ]
  },
  {
   "cell_type": "code",
   "execution_count": 23,
   "metadata": {},
   "outputs": [
    {
     "name": "stdout",
     "output_type": "stream",
     "text": [
      "['plasticcAlert_MLAG_HOSTLIB_Ia_NONIaMODEL0_0.avro', 'plasticcAlert_MLAG_HOSTLIB_Ia_NONIaMODEL0_1.avro', 'plasticcAlert_MLAG_HOSTLIB_Ia_NONIaMODEL0_2.avro']\n",
      "Reading /global/homes/a/agaglian/new_plasticc_alerts/plasticc_alerts/Examples/plasticcAlert_MLAG_HOSTLIB_Ia_NONIaMODEL0_0.avro\n"
     ]
    },
    {
     "name": "stderr",
     "output_type": "stream",
     "text": [
      "/opt/lsst/software/stack/conda/miniconda3-py38_4.9.2/envs/lsst-scipipe-0.6.0/lib/python3.8/site-packages/numpy/core/_asarray.py:102: UserWarning: Warning: converting a masked element to nan.\n",
      "  return array(a, dtype, copy=False, order=order)\n"
     ]
    },
    {
     "name": "stdout",
     "output_type": "stream",
     "text": [
      "Reading /global/homes/a/agaglian/new_plasticc_alerts/plasticc_alerts/Examples/plasticcAlert_MLAG_HOSTLIB_Ia_NONIaMODEL0_1.avro\n"
     ]
    },
    {
     "name": "stderr",
     "output_type": "stream",
     "text": [
      "/opt/lsst/software/stack/conda/miniconda3-py38_4.9.2/envs/lsst-scipipe-0.6.0/lib/python3.8/site-packages/numpy/core/_asarray.py:102: UserWarning: Warning: converting a masked element to nan.\n",
      "  return array(a, dtype, copy=False, order=order)\n"
     ]
    },
    {
     "name": "stdout",
     "output_type": "stream",
     "text": [
      "Reading /global/homes/a/agaglian/new_plasticc_alerts/plasticc_alerts/Examples/plasticcAlert_MLAG_HOSTLIB_Ia_NONIaMODEL0_2.avro\n"
     ]
    },
    {
     "name": "stderr",
     "output_type": "stream",
     "text": [
      "/opt/lsst/software/stack/conda/miniconda3-py38_4.9.2/envs/lsst-scipipe-0.6.0/lib/python3.8/site-packages/numpy/core/_asarray.py:102: UserWarning: Warning: converting a masked element to nan.\n",
      "  return array(a, dtype, copy=False, order=order)\n"
     ]
    },
    {
     "data": {
      "image/png": "[encoded data removed]",
      "text/plain": [
       "<Figure size 432x288 with 1 Axes>"
      ]
     },
     "metadata": {
      "needs_background": "light"
     },
     "output_type": "display_data"
    },
    {
     "data": {
      "image/png": "[encoded data removed]",
      "text/plain": [
       "<Figure size 432x288 with 1 Axes>"
      ]
     },
     "metadata": {
      "needs_background": "light"
     },
     "output_type": "display_data"
    },
    {
     "data": {
      "image/png": "[encoded data removed]",
      "text/plain": [
       "<Figure size 432x288 with 1 Axes>"
      ]
     },
     "metadata": {
      "needs_background": "light"
     },
     "output_type": "display_data"
    }
   ],
   "source": [
    "savedir='/global/homes/a/agaglian/new_plasticc_alerts/plasticc_alerts/Examples'\n",
    "for countm,name in enumerate(modelname):\n",
    "    sne=glob.glob(\"*{}*.avro\".format(name))\n",
    "    print(sne)\n",
    "    for cn, sn in enumerate(sne):\n",
    "        fname= savedir+'/'+\"plasticcAlert_%s_%i.avro\"%(name,cn)\n",
    "        print(f\"Reading {fname}\")\n",
    "        with open(fname,'rb') as f:\n",
    "            freader = reader(f)\n",
    "            for alert in freader:\n",
    "                dflc = make_dataframe(alert)\n",
    "                plot_lightcurve(dflc)"
   ]
  }
 ],
 "metadata": {
  "kernelspec": {
   "display_name": "desc-stack-weekly-latest",
   "language": "python",
   "name": "desc-stack-weekly-latest"
  },
  "language_info": {
   "codemirror_mode": {
    "name": "ipython",
    "version": 3
   },
   "file_extension": ".py",
   "mimetype": "text/x-python",
   "name": "python",
   "nbconvert_exporter": "python",
   "pygments_lexer": "ipython3",
   "version": "3.8.8"
  }
 },
 "nbformat": 4,
 "nbformat_minor": 4
}
