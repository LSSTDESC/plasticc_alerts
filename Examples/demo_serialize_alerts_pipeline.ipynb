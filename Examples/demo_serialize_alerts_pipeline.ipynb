{
 "cells": [
  {
   "cell_type": "markdown",
   "metadata": {},
   "source": [
    "## PLAsTiCC v2.0 alert simulation "
   ]
  },
  {
   "cell_type": "markdown",
   "metadata": {},
   "source": [
    "This is a demo of how we can add catalog simulations to LSST alerts in avro forma, which the Rubin project is using. "
   ]
  },
  {
   "cell_type": "markdown",
   "metadata": {},
   "source": [
    "Follow the README of this repository and then the README of `alert_packet` for setup. This involves installing `alert_packet` in some way."
   ]
  },
  {
   "cell_type": "markdown",
   "metadata": {},
   "source": [
    "This notebook is based on the examples and codes in `alert_packet` :https://github.com/lsst/alert_packet"
   ]
  },
  {
   "cell_type": "code",
   "execution_count": 2,
   "metadata": {},
   "outputs": [],
   "source": [
    "import lsst.alert.packet\n",
    "\n"
   ]
  },
  {
   "cell_type": "code",
   "execution_count": 3,
   "metadata": {},
   "outputs": [],
   "source": [
    "from pathlib import Path\n",
    "import matplotlib.pyplot as plt\n",
    "import os\n",
    "from copy import copy\n",
    "\n"
   ]
  },
  {
   "cell_type": "code",
   "execution_count": 4,
   "metadata": {},
   "outputs": [],
   "source": [
    "import json\n",
    "import pandas as pd\n",
    "from astropy.io import fits\n",
    "import numpy as np\n",
    "from astropy.time import Time\n",
    "import glob\n",
    "from avro.datafile import DataFileReader, DataFileWriter\n",
    "from avro.io import DatumReader, DatumWriter\n",
    "\n",
    "HOSTLIB_host=True\n",
    "\n"
   ]
  },
  {
   "cell_type": "markdown",
   "metadata": {},
   "source": [
    "### These functions will enable us to plot the output from our avro object"
   ]
  },
  {
   "cell_type": "code",
   "execution_count": 5,
   "metadata": {},
   "outputs": [],
   "source": [
    "def make_dataframe(packet):\n",
    "    df = pd.DataFrame(packet['diaSource'], index=[0])\n",
    "    df_prv = pd.DataFrame(packet['prvDiaSources'])\n",
    "    return pd.concat([df,df_prv], ignore_index=True)\n",
    "\n",
    "def plot_lightcurve(dflc, days_ago=True):\n",
    "    \n",
    "    filter_color = {'g':'green', 'r':'red', 'u':'pink'}\n",
    "    if days_ago:\n",
    "        now = Time.now().jd\n",
    "        t = dflc.midPointTai - now\n",
    "        xlabel = 'Days Ago'\n",
    "    else:\n",
    "        t = dflc.midPointTai\n",
    "        xlabel = 'Time (JD)'\n",
    "    \n",
    "    plt.figure()\n",
    "    for fid, color in filter_color.items():\n",
    "        # plot detections in this filter:\n",
    "        w = (dflc.filterName == fid) & ~dflc.psFlux.isnull()\n",
    "        if np.sum(w):\n",
    "            plt.errorbar(t[w],dflc.loc[w,'apFlux'], dflc.loc[w,'apFluxErr'],fmt='.',color=color)\n",
    "        #wnodet = (dflc.fid == fid) & dflc.magpsf.isnull()\n",
    "        #if np.sum(wnodet):\n",
    "         #   plt.scatter(t[wnodet],dflc.loc[wnodet,'diffmaglim'], marker='v',color=color,alpha=0.25)\n",
    "    \n",
    "    plt.gca().invert_yaxis()\n",
    "    plt.xlabel(xlabel)\n",
    "    plt.ylabel('Magnitude')"
   ]
  },
  {
   "cell_type": "markdown",
   "metadata": {},
   "source": [
    "### Let's read in the schema from the Rubin alert.packet "
   ]
  },
  {
   "cell_type": "code",
   "execution_count": 6,
   "metadata": {},
   "outputs": [],
   "source": [
    "schema = lsst.alert.packet.Schema.from_file()\n",
    "\n"
   ]
  },
  {
   "cell_type": "markdown",
   "metadata": {},
   "source": [
    "If you clone the repository `alert_packet` this is the location of the alert.json file."
   ]
  },
  {
   "cell_type": "code",
   "execution_count": 7,
   "metadata": {},
   "outputs": [],
   "source": [
    "path = Path('../../alert_packet/python/lsst/alert/packet/schema/4/0/sample_data/')\n",
    "with open(path/'alert.json') as f:\n",
    "    alert_data = json.load(f)\n",
    "    \n",
    "    "
   ]
  },
  {
   "cell_type": "markdown",
   "metadata": {},
   "source": [
    "\n",
    "### What does the alert data schema look like?\n",
    "It has one diaSource object for the current epoch"
   ]
  },
  {
   "cell_type": "code",
   "execution_count": 8,
   "metadata": {},
   "outputs": [
    {
     "data": {
      "text/plain": [
       "{'diaSourceId': 281323062375219200,\n",
       " 'ccdVisitId': 111111,\n",
       " 'midPointTai': 1480360995,\n",
       " 'filterName': 'r',\n",
       " 'programId': 1,\n",
       " 'ra': 351.570546978,\n",
       " 'decl': 0.126243049656,\n",
       " 'raSigma': 0.00028,\n",
       " 'declSigma': 0.00028,\n",
       " 'ra_decl_Cov': 0.00029,\n",
       " 'x': 112.1,\n",
       " 'y': 121.1,\n",
       " 'xSigma': 1.2,\n",
       " 'ySigma': 1.1,\n",
       " 'x_y_Cov': 1.2,\n",
       " 'apFlux': 1241.0,\n",
       " 'apFluxErr': 12.0,\n",
       " 'snr': 41.1,\n",
       " 'psFlux': 1241.0,\n",
       " 'psFluxErr': 12.0,\n",
       " 'flags': 0}"
      ]
     },
     "execution_count": 8,
     "metadata": {},
     "output_type": "execute_result"
    }
   ],
   "source": [
    "alert_data['diaSource']\n"
   ]
  },
  {
   "cell_type": "markdown",
   "metadata": {},
   "source": [
    " The previous diaSources for this diaObject are also nested in the schema"
   ]
  },
  {
   "cell_type": "code",
   "execution_count": 9,
   "metadata": {},
   "outputs": [
    {
     "data": {
      "text/plain": [
       "[{'diaSourceId': 281323062375219198,\n",
       "  'ccdVisitId': 111111,\n",
       "  'midPointTai': 1480360995,\n",
       "  'filterName': 'r',\n",
       "  'programId': 1,\n",
       "  'ra': 351.570546978,\n",
       "  'decl': 0.126243049656,\n",
       "  'raSigma': 0.00028,\n",
       "  'declSigma': 0.00028,\n",
       "  'ra_decl_Cov': 0.00029,\n",
       "  'x': 112.1,\n",
       "  'y': 121.1,\n",
       "  'xSigma': 1.2,\n",
       "  'ySigma': 1.1,\n",
       "  'x_y_Cov': 1.2,\n",
       "  'apFlux': 1241.0,\n",
       "  'apFluxErr': 12.0,\n",
       "  'snr': 41.1,\n",
       "  'psFlux': 1241.0,\n",
       "  'psFluxErr': 12.0,\n",
       "  'flags': 0},\n",
       " {'diaSourceId': 281323062375219199,\n",
       "  'ccdVisitId': 111111,\n",
       "  'midPointTai': 1480360995,\n",
       "  'filterName': 'r',\n",
       "  'programId': 1,\n",
       "  'ra': 351.570546978,\n",
       "  'decl': 0.126243049656,\n",
       "  'raSigma': 0.00028,\n",
       "  'declSigma': 0.00028,\n",
       "  'ra_decl_Cov': 0.00029,\n",
       "  'x': 112.1,\n",
       "  'y': 121.1,\n",
       "  'xSigma': 1.2,\n",
       "  'ySigma': 1.1,\n",
       "  'x_y_Cov': 1.2,\n",
       "  'apFlux': 1241.0,\n",
       "  'apFluxErr': 12.0,\n",
       "  'snr': 41.1,\n",
       "  'psFlux': 1241.0,\n",
       "  'psFluxErr': 12.0,\n",
       "  'flags': 0}]"
      ]
     },
     "execution_count": 9,
     "metadata": {},
     "output_type": "execute_result"
    }
   ],
   "source": [
    "alert_data['prvDiaSources']\n"
   ]
  },
  {
   "cell_type": "markdown",
   "metadata": {},
   "source": [
    "This is just a dictionary: You can write some code to read the data from SNANA and write it to the values of the correct keys"
   ]
  },
  {
   "cell_type": "code",
   "execution_count": 10,
   "metadata": {},
   "outputs": [],
   "source": [
    "# Pull off the first record to overwrite with SNANA information\n",
    "diasrc = alert_data['prvDiaSources'][0]\n"
   ]
  },
  {
   "cell_type": "markdown",
   "metadata": {},
   "source": [
    "## Taking an SNANA file and porting information to alert\n",
    "We will pull off models from the PLAsTiCC v2.0 DDF simulation, and assign the info to the alert packet. Note that we are adding information that isn't in the defined schema for this round.\n",
    "Example:"
   ]
  },
  {
   "cell_type": "code",
   "execution_count": 11,
   "metadata": {},
   "outputs": [
    {
     "name": "stdout",
     "output_type": "stream",
     "text": [
      "['AGAGLIAN_ZTF_NONIaMODEL0']\n"
     ]
    }
   ],
   "source": [
    "savedir='/global/cscratch1/sd/rhlozek/alerts/plasticc_alerts/Examples'\n",
    "os.chdir(savedir)\n",
    "retval = os.getcwd()\n",
    "#simdir='/global/cscratch1/sd/kessler/SNANA_LSST_SIM/GSN_LSST_DDF/'\n",
    "simdir='../hostSims/'\n",
    "os.chdir(simdir)\n",
    "modelname = glob.glob('*MODEL*')\n",
    "os.chdir(retval)\n",
    "print(modelname)\n",
    "\n",
    "\n",
    "\n",
    "def import_diasrc_from_fits(head, phot,my_diasrc,hostlib_flag=False,i=0):\n",
    "    \n",
    "        my_diasrc['filterName'] = phot[1].data['FLT'][i]\n",
    "        \n",
    "        my_diasrc['apFlux'] = phot[1].data['FLUXCAL'][i]\n",
    "        my_diasrc['apFluxErr'] = phot[1].data['FLUXCALERR'][i]\n",
    "        my_diasrc['snr'] = phot[1].data['FLUXCAL'][i]/phot[1].data['FLUXCALERR'][i]\n",
    "        my_diasrc['midPointTai'] = phot[1].data['MJD'][i]\n",
    "    \n",
    "        # General properties\n",
    "        my_diasrc['ra'] = head[1].data['RA'][i]\n",
    "        my_diasrc['dec'] = head[1].data['DEC'][i]\n",
    "        my_diasrc['nobs'] = head[1].data['NOBS'][i]\n",
    "        my_diasrc['mwebv'] = head[1].data['MWEBV'][i]\n",
    "        my_diasrc['mwebv_err'] = head[1].data['MWEBV_ERR'][i]\n",
    "        my_diasrc['z_final'] = head[1].data['REDSHIFT_FINAL'][i]\n",
    "        my_diasrc['z_final_err'] = head[1].data['REDSHIFT_FINAL_ERR'][i]\n",
    "        \n",
    "        if hostlib_flag:\n",
    "        \n",
    "                # properties of the host galaxy\n",
    "            #print('using HOSTLIB values')\n",
    "            my_diasrc['hostgal_logmass'] = head[1].data['SIM_HOSTLIB(LOGMASS_OBS)'][0]\n",
    "            my_diasrc['hostgal_sfr']= head[1].data['SIM_HOSTLIB(STAR_FORMATION_RATE)'][0]\n",
    "            my_diasrc['ellipticity'] = head[1].data['SIM_HOSTLIB(TOTAL_ELLIPTICITY)'][0]\n",
    "            my_diasrc['size'] = head[1].data['SIM_HOSTLIB(SIZE_TRUE)'][0]\n",
    "            my_diasrc['hostgal_z'] = head[1].data['HOSTGAL_SPECZ'][0]\n",
    "            my_diasrc['hostgal_mag_u']= head[1].data['HOSTGAL_MAG_u'][0] #check\n",
    "            my_diasrc['hostgal_mag_g']= head[1].data['SIM_HOSTLIB(MAG_TRUE_g_SDSS_z0)'][0]\n",
    "            my_diasrc['hostgal_mag_r']= head[1].data['SIM_HOSTLIB(MAG_TRUE_r_SDSS_z0)'][0]   \n",
    "            my_diasrc['hostgal_mag_i']= head[1].data['SIM_HOSTLIB(MAG_TRUE_i_SDSS_z0)'][0]  \n",
    "            my_diasrc['hostgal_mag_z']= head[1].data['SIM_HOSTLIB(MAG_TRUE_z_SDSS_z0)'][0]\n",
    "            \n",
    "        else:\n",
    "            #print('using uncorrelated SNANA values')\n",
    "            my_diasrc['hostgal_logmass']= head[1].data['HOSTGAL_LOGMASS'][0]\n",
    "            my_diasrc['hostgal_z']=head[1].data['HOSTGAL_SPECZ'][0]\n",
    "            my_diasrc['hostgal_z_err']=head[1].data['HOSTGAL_SPECZ_ERR'][0]\n",
    "            my_diasrc['hostgal_ssfr']= head[1].data['HOSTGAL_sSFR'][0]\n",
    "            my_diasrc['hostgal_ssfr_err']= head[1].data['HOSTGAL_sSFR_ERR'][0]\n",
    "            my_diasrc['hostgal_mag_u']= head[1].data['HOSTGAL_MAG_u'][0]\n",
    "            my_diasrc['hostgal_mag_g']= head[1].data['HOSTGAL_MAG_g'][0]\n",
    "            my_diasrc['hostgal_mag_r']= head[1].data['HOSTGAL_MAG_r'][0]\n",
    "            my_diasrc['hostgal_mag_i']= head[1].data['HOSTGAL_MAG_i'][0]\n",
    "            my_diasrc['hostgal_mag_z']= head[1].data['HOSTGAL_MAG_z'][0]\n",
    "            \n",
    "        # Common to both\n",
    "        my_diasrc['hostgal_ra'] = head[1].data['HOSTGAL_RA'][0]\n",
    "        my_diasrc['hostgal_dec'] = head[1].data['HOSTGAL_DEC'][0]\n",
    "        my_diasrc['hostgal_snsep']= head[1].data['HOSTGAL_SNSEP'][0]\n",
    "        my_diasrc['hostgal_magerr_u']= head[1].data['HOSTGAL_MAGERR_u'][0]\n",
    "        my_diasrc['hostgal_magerr_g']= head[1].data['HOSTGAL_MAGERR_g'][0]\n",
    "        my_diasrc['hostgal_magerr_r']= head[1].data['HOSTGAL_MAGERR_r'][0]\n",
    "        my_diasrc['hostgal_magerr_i']= head[1].data['HOSTGAL_MAGERR_i'][0]\n",
    "        my_diasrc['hostgal_magerr_z']= head[1].data['HOSTGAL_MAGERR_z'][0]\n",
    "        my_diasrc['hostgal_logmass_err']= head[1].data['HOSTGAL_LOGMASS_ERR'][0]\n",
    "\n",
    "        return my_diasrc\n"
   ]
  },
  {
   "cell_type": "code",
   "execution_count": 12,
   "metadata": {},
   "outputs": [
    {
     "name": "stdout",
     "output_type": "stream",
     "text": [
      "[-9.]\n",
      "AGAGLIAN_ZTF_NONIaMODEL0\n",
      "\n",
      "397 0\n",
      "diaSourceId\n",
      "ccdVisitId\n",
      "midPointTai\n",
      "filterName\n",
      "programId\n",
      "ra\n",
      "decl\n",
      "raSigma\n",
      "declSigma\n",
      "ra_decl_Cov\n",
      "x\n",
      "y\n",
      "xSigma\n",
      "ySigma\n",
      "x_y_Cov\n",
      "apFlux\n",
      "apFluxErr\n",
      "snr\n",
      "psFlux\n",
      "psFluxErr\n",
      "flags\n",
      "dec\n",
      "nobs\n",
      "mwebv\n",
      "mwebv_err\n",
      "z_final\n",
      "z_final_err\n",
      "hostgal_logmass\n",
      "hostgal_sfr\n",
      "ellipticity\n",
      "size\n",
      "hostgal_z\n",
      "hostgal_mag_u\n",
      "hostgal_mag_g\n",
      "hostgal_mag_r\n",
      "hostgal_mag_i\n",
      "hostgal_mag_z\n",
      "hostgal_ra\n",
      "hostgal_dec\n",
      "hostgal_snsep\n",
      "hostgal_magerr_u\n",
      "hostgal_magerr_g\n",
      "hostgal_magerr_r\n",
      "hostgal_magerr_i\n",
      "hostgal_magerr_z\n",
      "hostgal_logmass_err\n",
      "-------\n",
      "====\n",
      "Saving model AGAGLIAN_ZTF_NONIaMODEL0 as plasticcAlert_AGAGLIAN_ZTF_NONIaMODEL0_0.avro\n",
      "Done saving models\n"
     ]
    },
    {
     "data": {
      "text/plain": [
       "<Figure size 864x4320 with 0 Axes>"
      ]
     },
     "metadata": {},
     "output_type": "display_data"
    },
    {
     "data": {
      "image/png": "[encoded data removed]",
      "text/plain": [
       "<Figure size 432x288 with 1 Axes>"
      ]
     },
     "metadata": {
      "needs_background": "light"
     },
     "output_type": "display_data"
    }
   ],
   "source": [
    "fig = plt.figure(figsize=(12,60))\n",
    "number_of_subplots=len(modelname)\n",
    "#print(number_of_subplots)\n",
    "keep = -9*np.ones(len(modelname))\n",
    "print(keep)\n",
    "\n",
    "path = Path('../../alert_packet/python/lsst/alert/packet/schema/4/0/sample_data/')\n",
    "with open(path/'alert.json') as f:\n",
    "    alert_data_orig = json.load(f)\n",
    "\n",
    "for countm,name in enumerate(modelname):\n",
    "    print(name)\n",
    "    # Open the photometry file and the header files\n",
    "    name_head=simdir+'/'+name+'/'+'%s-0001_HEAD.FITS.gz'%name\n",
    "    name_phot=simdir+'/'+name+'/'+'%s-0001_PHOT.FITS.gz'%name\n",
    "    \n",
    "#     name_head=simdir+name+'/'+'GSN_LSST_DDF_NONIaMODEL0-0001_HEAD.FITS.gz'\n",
    "#     name_phot=simdir+name+'/'+'GSN_LSST_DDF_NONIaMODEL0-0001_PHOT.FITS.gz'\n",
    "    head = fits.open(name_head)\n",
    "    head_cols=head[1].columns\n",
    "    #print(head_cols)\n",
    "    phot = fits.open(name_phot)\n",
    "    phot_cols=phot[1].columns\n",
    "    #print(phot_cols)\n",
    "    #plt.close('all')  \n",
    "    # now take header information\n",
    "    mjd = phot[1].data['MJD']\n",
    "    mag = phot[1].data['SIM_MAGOBS']\n",
    "    print()\n",
    "    try:\n",
    "        bound = np.where(mjd==-777)[0][0]-1\n",
    "        print(bound, countm)\n",
    "        if number_of_subplots==1:\n",
    "             ax1 = plt.subplots(1,1)\n",
    "        else: \n",
    "            ax1 = plt.subplot(number_of_subplots,1,countm+1)\n",
    "\n",
    "        plt.plot(mjd, mag,'.')\n",
    "        #plt.text(59600,45, '%s'%name)\n",
    "        #plt.axis([59582.3282,59582.3282+399, 0,60])\n",
    "        filt = phot[1].data['FLT'][0:bound]\n",
    "        mag = phot[1].data['SIM_MAGOBS'][0:bound]\n",
    "        ginds = np.where(phot[1].data['FLT'][0:bound]=='g')\n",
    "        zinds = np.where(phot[1].data['FLT'][0:bound]=='z')\n",
    "        fluxcal =  phot[1].data['FLUXCAL'][0:bound]\n",
    "        fluxcalerr =  phot[1].data['FLUXCALERR'][0:bound]\n",
    "        snr = fluxcal/fluxcalerr\n",
    "        mjd=mjd[0:bound]\n",
    " \n",
    "        # copy the original alert data and clear all old sources\n",
    "        alert = copy(alert_data_orig)\n",
    "        diasrc = alert_data_orig['prvDiaSources'][0]\n",
    "        my_diasrc = copy(diasrc)\n",
    "        alert = copy(alert_data_orig)\n",
    "        alert['prvDiaSources'].clear()\n",
    "        my_diasrc['diaSourceId'] = np.int(28132306237521+1000*np.random.uniform())\n",
    "        my_diasrc = import_diasrc_from_fits(head, phot,my_diasrc,HOSTLIB_host,i=0)        \n",
    "        alert['diaSource'] = my_diasrc\n",
    "     \n",
    "        for key in alert['diaSource']:\n",
    "                print(key)\n",
    "                \n",
    "        print('-------')\n",
    "        for count, i in enumerate(ginds[0]):\n",
    "            my_diasrc = copy(diasrc)\n",
    "            alert['prvDiaSources'].append(alert['diaSource'])\n",
    "            my_diasrc['diaSourceId'] = my_diasrc['diaSourceId']+count+1\n",
    "            my_diasrc = import_diasrc_from_fits(head, phot,my_diasrc,HOSTLIB_host,i)\n",
    "            alert['diaSource'] = my_diasrc\n",
    "        print('====') \n",
    "        avro_bytes = schema.serialize(alert)\n",
    "        messg = schema.deserialize(avro_bytes)\n",
    "        iterNum=0\n",
    "        keep[countm]=int(countm)\n",
    "        with open(\"plasticcAlert_%s_%i.avro\"%(name,iterNum), \"wb\") as f:\n",
    "            schema.store_alerts(f, [alert])\n",
    "        print(f\"Saving model {name} as plasticcAlert_{name}_{iterNum}.avro\")\n",
    "    except:\n",
    "        print(f\"This model {name} seems to have no data\")\n",
    "        keep[countm]=int(0)\n",
    "    print(f\"Done saving models\")\n",
    "    \n",
    "    \n",
    "    "
   ]
  },
  {
   "cell_type": "code",
   "execution_count": 13,
   "metadata": {},
   "outputs": [
    {
     "name": "stdout",
     "output_type": "stream",
     "text": [
      "[0]\n"
     ]
    }
   ],
   "source": [
    "#print(keep)\n",
    "keep = np.where(keep!=-9)[0]\n",
    "print(keep)\n"
   ]
  },
  {
   "cell_type": "code",
   "execution_count": 14,
   "metadata": {},
   "outputs": [
    {
     "name": "stdout",
     "output_type": "stream",
     "text": [
      "0 AGAGLIAN_ZTF_NONIaMODEL0\n",
      "Reading /global/cscratch1/sd/rhlozek/alerts/plasticc_alerts/Examples/plasticcAlert_AGAGLIAN_ZTF_NONIaMODEL0_0.avro\n",
      "diaSourceId huh did it work\n",
      "ccdVisitId huh did it work\n",
      "diaObjectId huh did it work\n",
      "ssObjectId huh did it work\n",
      "parentDiaSourceId huh did it work\n",
      "midPointTai huh did it work\n",
      "filterName huh did it work\n",
      "programId huh did it work\n",
      "ra huh did it work\n",
      "decl huh did it work\n",
      "raErr huh did it work\n",
      "declErr huh did it work\n",
      "ra_decl_Cov huh did it work\n",
      "x huh did it work\n",
      "y huh did it work\n",
      "xErr huh did it work\n",
      "yErr huh did it work\n",
      "x_y_Cov huh did it work\n",
      "apFlux huh did it work\n",
      "apFluxErr huh did it work\n",
      "snr huh did it work\n",
      "psFlux huh did it work\n",
      "psFluxErr huh did it work\n",
      "psRa huh did it work\n",
      "psDecl huh did it work\n",
      "psRaErr huh did it work\n",
      "psDeclErr huh did it work\n",
      "psFlux_psRa_Cov huh did it work\n",
      "psFlux_psDecl_Cov huh did it work\n",
      "psRa_psDecl_Cov huh did it work\n",
      "psLnL huh did it work\n",
      "psChi2 huh did it work\n",
      "psNdata huh did it work\n",
      "trailFlux huh did it work\n",
      "trailRa huh did it work\n",
      "trailDecl huh did it work\n",
      "trailLength huh did it work\n",
      "trailAngle huh did it work\n",
      "trailFluxErr huh did it work\n",
      "trailRaErr huh did it work\n",
      "trailDeclErr huh did it work\n",
      "trailLengthErr huh did it work\n",
      "trailAngleErr huh did it work\n",
      "trailFlux_trailRa_Cov huh did it work\n",
      "trailFlux_trailDecl_Cov huh did it work\n",
      "trailFlux_trailLength_Cov huh did it work\n",
      "trailFlux_trailAngle_Cov huh did it work\n",
      "trailRa_trailDecl_Cov huh did it work\n",
      "trailRa_trailLength_Cov huh did it work\n",
      "trailRa_trailAngle_Cov huh did it work\n",
      "trailDecl_trailLength_Cov huh did it work\n",
      "trailDecl_trailAngle_Cov huh did it work\n",
      "trailLength_trailAngle_Cov huh did it work\n",
      "trailLnL huh did it work\n",
      "trailChi2 huh did it work\n",
      "trailNdata huh did it work\n",
      "dipMeanFlux huh did it work\n",
      "dipFluxDiff huh did it work\n",
      "dipRa huh did it work\n",
      "dipDecl huh did it work\n",
      "dipLength huh did it work\n",
      "dipAngle huh did it work\n",
      "dipMeanFluxErr huh did it work\n",
      "dipFluxDiffErr huh did it work\n",
      "dipRaErr huh did it work\n",
      "dipDeclErr huh did it work\n",
      "dipLengthErr huh did it work\n",
      "dipAngleErr huh did it work\n",
      "dipMeanFlux_dipFluxDiff_Cov huh did it work\n",
      "dipMeanFlux_dipRa_Cov huh did it work\n",
      "dipMeanFlux_dipDecl_Cov huh did it work\n",
      "dipMeanFlux_dipLength_Cov huh did it work\n",
      "dipMeanFlux_dipAngle_Cov huh did it work\n",
      "dipFluxDiff_dipRa_Cov huh did it work\n",
      "dipFluxDiff_dipDecl_Cov huh did it work\n",
      "dipFluxDiff_dipLength_Cov huh did it work\n",
      "dipFluxDiff_dipAngle_Cov huh did it work\n",
      "dipRa_dipDecl_Cov huh did it work\n",
      "dipRa_dipLength_Cov huh did it work\n",
      "dipRa_dipAngle_Cov huh did it work\n",
      "dipDecl_dipLength_Cov huh did it work\n",
      "dipDecl_dipAngle_Cov huh did it work\n",
      "dipLength_dipAngle_Cov huh did it work\n",
      "dipLnL huh did it work\n",
      "dipChi2 huh did it work\n",
      "dipNdata huh did it work\n",
      "totFlux huh did it work\n",
      "totFluxErr huh did it work\n",
      "diffFlux huh did it work\n",
      "diffFluxErr huh did it work\n",
      "fpBkgd huh did it work\n",
      "fpBkgdErr huh did it work\n",
      "ixx huh did it work\n",
      "iyy huh did it work\n",
      "ixy huh did it work\n",
      "ixxErr huh did it work\n",
      "iyyErr huh did it work\n",
      "ixyErr huh did it work\n",
      "ixx_iyy_Cov huh did it work\n",
      "ixx_ixy_Cov huh did it work\n",
      "iyy_ixy_Cov huh did it work\n",
      "ixxPSF huh did it work\n",
      "iyyPSF huh did it work\n",
      "ixyPSF huh did it work\n",
      "extendedness huh did it work\n",
      "spuriousness huh did it work\n",
      "flags huh did it work\n"
     ]
    },
    {
     "data": {
      "image/png": "[encoded data removed]",
      "text/plain": [
       "<Figure size 432x288 with 1 Axes>"
      ]
     },
     "metadata": {
      "needs_background": "light"
     },
     "output_type": "display_data"
    }
   ],
   "source": [
    "#print(keep)\n",
    "for count in keep:\n",
    "    iterNum=0\n",
    "    print(count, modelname[count])\n",
    "    \n",
    "    fname= savedir+'/'+\"plasticcAlert_%s_%i.avro\"%(modelname[count],iterNum)\n",
    "    print(f\"Reading {fname}\")\n",
    "    with open(fname,'rb') as f:\n",
    "        freader = DataFileReader(f,DatumReader())\n",
    "        for alert in freader:\n",
    "            for part in alert['diaSource']:\n",
    "                print(part, 'huh did it work')\n",
    "            dflc = make_dataframe(alert)\n",
    "            plot_lightcurve(dflc)\n",
    "            \n",
    "            "
   ]
  },
  {
   "cell_type": "code",
   "execution_count": null,
   "metadata": {},
   "outputs": [],
   "source": []
  },
  {
   "cell_type": "code",
   "execution_count": null,
   "metadata": {},
   "outputs": [],
   "source": []
  }
 ],
 "metadata": {
  "kernelspec": {
   "display_name": "Python 3",
   "language": "python",
   "name": "python3"
  },
  "language_info": {
   "codemirror_mode": {
    "name": "ipython",
    "version": 3
   },
   "file_extension": ".py",
   "mimetype": "text/x-python",
   "name": "python",
   "nbconvert_exporter": "python",
   "pygments_lexer": "ipython3",
   "version": "3.7.4"
  }
 },
 "nbformat": 4,
 "nbformat_minor": 4
}
