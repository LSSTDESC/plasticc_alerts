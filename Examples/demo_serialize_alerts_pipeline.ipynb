{
 "cells": [
  {
   "cell_type": "markdown",
   "metadata": {},
   "source": [
    "## PLAsTiCC v2.0 alert simulation "
   ]
  },
  {
   "cell_type": "markdown",
   "metadata": {},
   "source": [
    "This is a demo of how we can add catalog simulations to LSST alerts in avro forma, which the Rubin project is using. "
   ]
  },
  {
   "cell_type": "markdown",
   "metadata": {},
   "source": [
    "Follow the README of this repository and then the README of `alert_packet` for setup. This involves installing `alert_packet` in some way."
   ]
  },
  {
   "cell_type": "markdown",
   "metadata": {},
   "source": [
    "This notebook is based on the examples and codes in `alert_packet` :https://github.com/lsst/alert_packet"
   ]
  },
  {
   "cell_type": "code",
   "execution_count": 2,
   "metadata": {},
   "outputs": [],
   "source": [
    "import lsst.alert.packet"
   ]
  },
  {
   "cell_type": "code",
   "execution_count": 3,
   "metadata": {},
   "outputs": [],
   "source": [
    "from pathlib import Path\n",
    "import matplotlib.pyplot as plt\n",
    "import os\n",
    "from copy import copy"
   ]
  },
  {
   "cell_type": "code",
   "execution_count": 4,
   "metadata": {},
   "outputs": [],
   "source": [
    "import json\n",
    "import pandas as pd\n",
    "from astropy.io import fits\n",
    "import numpy as np\n",
    "from astropy.time import Time\n",
    "import glob\n",
    "from avro.datafile import DataFileReader, DataFileWriter\n",
    "from avro.io import DatumReader, DatumWriter\n",
    "\n",
    "HOSTLIB_host=False"
   ]
  },
  {
   "cell_type": "markdown",
   "metadata": {},
   "source": [
    "### These functions will enable us to plot the output from our avro object"
   ]
  },
  {
   "cell_type": "code",
   "execution_count": 5,
   "metadata": {},
   "outputs": [],
   "source": [
    "def make_dataframe(packet):\n",
    "    df = pd.DataFrame(packet['diaSource'], index=[0])\n",
    "    df_prv = pd.DataFrame(packet['prvDiaSources'])\n",
    "    return pd.concat([df,df_prv], ignore_index=True)\n",
    "\n",
    "def plot_lightcurve(dflc, days_ago=True):\n",
    "    \n",
    "    filter_color = {'g':'green', 'r':'red', 'u':'pink'}\n",
    "    if days_ago:\n",
    "        now = Time.now().jd\n",
    "        t = dflc.midPointTai - now\n",
    "        xlabel = 'Days Ago'\n",
    "    else:\n",
    "        t = dflc.midPointTai\n",
    "        xlabel = 'Time (JD)'\n",
    "    \n",
    "    plt.figure()\n",
    "    for fid, color in filter_color.items():\n",
    "        # plot detections in this filter:\n",
    "        w = (dflc.filterName == fid) & ~dflc.psFlux.isnull()\n",
    "        if np.sum(w):\n",
    "            plt.errorbar(t[w],dflc.loc[w,'apFlux'], dflc.loc[w,'apFluxErr'],fmt='.',color=color)\n",
    "        #wnodet = (dflc.fid == fid) & dflc.magpsf.isnull()\n",
    "        #if np.sum(wnodet):\n",
    "         #   plt.scatter(t[wnodet],dflc.loc[wnodet,'diffmaglim'], marker='v',color=color,alpha=0.25)\n",
    "    \n",
    "    plt.gca().invert_yaxis()\n",
    "    plt.xlabel(xlabel)\n",
    "    plt.ylabel('Magnitude')"
   ]
  },
  {
   "cell_type": "markdown",
   "metadata": {},
   "source": [
    "### Let's read in the schema from the Rubin alert.packet "
   ]
  },
  {
   "cell_type": "code",
   "execution_count": 6,
   "metadata": {},
   "outputs": [],
   "source": [
    "schema = lsst.alert.packet.Schema.from_file()"
   ]
  },
  {
   "cell_type": "markdown",
   "metadata": {},
   "source": [
    "If you clone the repository `alert_packet` this is the location of the alert.json file."
   ]
  },
  {
   "cell_type": "code",
   "execution_count": 36,
   "metadata": {},
   "outputs": [],
   "source": [
    "path = Path('../../alert_packet/python/lsst/alert/packet/schema/4/0/sample_data/')\n",
    "with open(path/'alert.json') as f:\n",
    "    alert_data = json.load(f)"
   ]
  },
  {
   "cell_type": "markdown",
   "metadata": {},
   "source": [
    "### What does the alert data schema look like?\n",
    "It has one diaSource object for the current epoch"
   ]
  },
  {
   "cell_type": "code",
   "execution_count": 8,
   "metadata": {},
   "outputs": [
    {
     "data": {
      "text/plain": [
       "{'diaSourceId': 281323062375219200,\n",
       " 'ccdVisitId': 111111,\n",
       " 'midPointTai': 1480360995,\n",
       " 'filterName': 'r',\n",
       " 'programId': 1,\n",
       " 'ra': 351.570546978,\n",
       " 'decl': 0.126243049656,\n",
       " 'raSigma': 0.00028,\n",
       " 'declSigma': 0.00028,\n",
       " 'ra_decl_Cov': 0.00029,\n",
       " 'x': 112.1,\n",
       " 'y': 121.1,\n",
       " 'xSigma': 1.2,\n",
       " 'ySigma': 1.1,\n",
       " 'x_y_Cov': 1.2,\n",
       " 'apFlux': 1241.0,\n",
       " 'apFluxErr': 12.0,\n",
       " 'snr': 41.1,\n",
       " 'psFlux': 1241.0,\n",
       " 'psFluxErr': 12.0,\n",
       " 'flags': 0}"
      ]
     },
     "execution_count": 8,
     "metadata": {},
     "output_type": "execute_result"
    }
   ],
   "source": [
    "alert_data['diaSource']"
   ]
  },
  {
   "cell_type": "markdown",
   "metadata": {},
   "source": [
    " The previous diaSources for this diaObject are also nested in the schema"
   ]
  },
  {
   "cell_type": "code",
   "execution_count": 9,
   "metadata": {},
   "outputs": [
    {
     "data": {
      "text/plain": [
       "[{'diaSourceId': 281323062375219198,\n",
       "  'ccdVisitId': 111111,\n",
       "  'midPointTai': 1480360995,\n",
       "  'filterName': 'r',\n",
       "  'programId': 1,\n",
       "  'ra': 351.570546978,\n",
       "  'decl': 0.126243049656,\n",
       "  'raSigma': 0.00028,\n",
       "  'declSigma': 0.00028,\n",
       "  'ra_decl_Cov': 0.00029,\n",
       "  'x': 112.1,\n",
       "  'y': 121.1,\n",
       "  'xSigma': 1.2,\n",
       "  'ySigma': 1.1,\n",
       "  'x_y_Cov': 1.2,\n",
       "  'apFlux': 1241.0,\n",
       "  'apFluxErr': 12.0,\n",
       "  'snr': 41.1,\n",
       "  'psFlux': 1241.0,\n",
       "  'psFluxErr': 12.0,\n",
       "  'flags': 0},\n",
       " {'diaSourceId': 281323062375219199,\n",
       "  'ccdVisitId': 111111,\n",
       "  'midPointTai': 1480360995,\n",
       "  'filterName': 'r',\n",
       "  'programId': 1,\n",
       "  'ra': 351.570546978,\n",
       "  'decl': 0.126243049656,\n",
       "  'raSigma': 0.00028,\n",
       "  'declSigma': 0.00028,\n",
       "  'ra_decl_Cov': 0.00029,\n",
       "  'x': 112.1,\n",
       "  'y': 121.1,\n",
       "  'xSigma': 1.2,\n",
       "  'ySigma': 1.1,\n",
       "  'x_y_Cov': 1.2,\n",
       "  'apFlux': 1241.0,\n",
       "  'apFluxErr': 12.0,\n",
       "  'snr': 41.1,\n",
       "  'psFlux': 1241.0,\n",
       "  'psFluxErr': 12.0,\n",
       "  'flags': 0}]"
      ]
     },
     "execution_count": 9,
     "metadata": {},
     "output_type": "execute_result"
    }
   ],
   "source": [
    "alert_data['prvDiaSources']"
   ]
  },
  {
   "cell_type": "markdown",
   "metadata": {},
   "source": [
    "This is just a dictionary: You can write some code to read the data from SNANA and write it to the values of the correct keys"
   ]
  },
  {
   "cell_type": "code",
   "execution_count": 10,
   "metadata": {},
   "outputs": [],
   "source": [
    "# Pull off the first record to overwrite with SNANA information\n",
    "diasrc = alert_data['prvDiaSources'][0]"
   ]
  },
  {
   "cell_type": "markdown",
   "metadata": {},
   "source": [
    "## Taking an SNANA file and porting information to alert\n",
    "We will pull off models from the PLAsTiCC v2.0 DDF simulation, and assign the info to the alert packet. Note that we are adding information that isn't in the defined schema for this round.\n",
    "Example:"
   ]
  },
  {
   "cell_type": "code",
   "execution_count": 34,
   "metadata": {},
   "outputs": [
    {
     "name": "stdout",
     "output_type": "stream",
     "text": [
      "['AGAGLIAN_ZTF_NONIaMODEL0']\n"
     ]
    }
   ],
   "source": [
    "savedir='/global/cscratch1/sd/rhlozek/alerts/plasticc_alerts/Examples'\n",
    "os.chdir(savedir)\n",
    "retval = os.getcwd()\n",
    "#simdir='/global/cscratch1/sd/kessler/SNANA_LSST_SIM/GSN_LSST_DDF/'\n",
    "simdir='../hostSims/'\n",
    "os.chdir(simdir)\n",
    "modelname = glob.glob('*MODEL*')\n",
    "os.chdir(retval)\n",
    "print(modelname)"
   ]
  },
  {
   "cell_type": "code",
   "execution_count": 48,
   "metadata": {},
   "outputs": [
    {
     "name": "stdout",
     "output_type": "stream",
     "text": [
      "AGAGLIAN_ZTF_NONIaMODEL0\n",
      "ColDefs(\n",
      "    name = 'MJD'; format = '1D'\n",
      "    name = 'FLT'; format = '2A'\n",
      "    name = 'FIELD'; format = '12A'\n",
      "    name = 'PHOTFLAG'; format = '1J'\n",
      "    name = 'PHOTPROB'; format = '1E'\n",
      "    name = 'FLUXCAL'; format = '1E'\n",
      "    name = 'FLUXCALERR'; format = '1E'\n",
      "    name = 'PSF_SIG1'; format = '1E'\n",
      "    name = 'SKY_SIG'; format = '1E'\n",
      "    name = 'ZEROPT'; format = '1E'\n",
      "    name = 'SIM_MAGOBS'; format = '1E'\n",
      ")\n",
      "60027.3597\n",
      "397 0\n",
      "This model AGAGLIAN_ZTF_NONIaMODEL0 seems to have no data\n"
     ]
    },
    {
     "data": {
      "text/plain": [
       "<Figure size 864x4320 with 0 Axes>"
      ]
     },
     "metadata": {},
     "output_type": "display_data"
    }
   ],
   "source": [
    "fig = plt.figure(figsize=(12,60))\n",
    "number_of_subplots=len(modelname)\n",
    "keep = np.zeros(len(modelname))\n",
    "\n",
    "path = Path('../../alert_packet/python/lsst/alert/packet/schema/4/0/sample_data/')\n",
    "with open(path/'alert.json') as f:\n",
    "    alert_data_orig = json.load(f)\n",
    "\n",
    "for countm,name in enumerate(modelname):\n",
    "    print(name)\n",
    "    # Open the photometry file and the header files\n",
    "    name_head=simdir+'/'+name+'/'+'%s-0001_HEAD.FITS.gz'%name\n",
    "    name_phot=simdir+'/'+name+'/'+'%s-0001_PHOT.FITS.gz'%name\n",
    "    \n",
    "#     name_head=simdir+name+'/'+'GSN_LSST_DDF_NONIaMODEL0-0001_HEAD.FITS.gz'\n",
    "#     name_phot=simdir+name+'/'+'GSN_LSST_DDF_NONIaMODEL0-0001_PHOT.FITS.gz'\n",
    "    head = fits.open(name_head)\n",
    "    head_cols=head[1].columns\n",
    "    #print(head_cols)\n",
    "    phot = fits.open(name_phot)\n",
    "    phot_cols=phot[1].columns\n",
    "    print(phot_cols)\n",
    "    #plt.close('all')\n",
    "    \n",
    "    \n",
    "    # now take header information\n",
    "    mjd = phot[1].data['MJD']\n",
    "    mag = phot[1].data['SIM_MAGOBS']\n",
    "    print(mjd[0])\n",
    "#     time=Time(mjd[0], format='mjd')\n",
    "#     newtime=time.to_value('unix_tai')\n",
    "#     print(newtime)\n",
    "    try:\n",
    "        bound = np.where(mjd==-777)[0][0]-1\n",
    "        print(bound, countm)\n",
    "        ax1 = plt.subplot(number_of_subplots,1,countm)\n",
    "        plt.plot(mjd, mag,'.')\n",
    "        #plt.text(59600,45, '%s'%name)\n",
    "        #plt.axis([59582.3282,59582.3282+399, 0,60])\n",
    "        filt = phot[1].data['BAND'][0:bound]\n",
    "        mag = phot[1].data['SIM_MAGOBS'][0:bound]\n",
    "        ginds = np.where(phot[1].data['FILT'][0:bound]=='g')\n",
    "        zinds = np.where(phot[1].data['FILT'][0:bound]=='z')\n",
    "        fluxcal =  phot[1].data['FLUXCAL'][0:bound]\n",
    "        fluxcalerr =  phot[1].data['FLUXCALERR'][0:bound]\n",
    "        snr = fluxcal/fluxcalerr\n",
    "        mjd=mjd[0:bound]\n",
    "        print(mjd)\n",
    "        # copy the original alert data and clear all old sources\n",
    "        alert = copy(alert_data_orig)\n",
    "        diasrc = alert_data_orig['prvDiaSources'][0]\n",
    "        my_diasrc = copy(diasrc)\n",
    "        alert = copy(alert_data_orig)\n",
    "        #print(alert['prvDiaSources'])\n",
    "        #print(huh)\n",
    "        alert['prvDiaSources'].clear()\n",
    "        #print(alert['prvDiaSources'])\n",
    "        my_diasrc['diaSourceId'] = np.int(28132306237521+1000*np.random())\n",
    "        \n",
    "        # time points for the first diaSrc\n",
    "        my_diasrc['midPointTai'] = mjd[0]\n",
    "#         , format='mjd').to_value('tai',subfmt='decimal')\n",
    "#         print(my_diasrc['midPointTai'])\n",
    "        my_diasrc['filterName'] = filt[0]\n",
    "        my_diasrc['snr'] = snr[0]\n",
    "        my_diasrc['apFlux'] = fluxcal[0]\n",
    "        my_diasrc['apFluxErr'] = fluxcalerr[0]\n",
    "        \n",
    "        # General properties\n",
    "        my_diasrc['ra'] = head[1].data['RA']\n",
    "        my_diasrc['dec'] = head[1].data['DEC']\n",
    "        my_diasrc['nobs'] = head[1].data['NOBS']\n",
    "        my_diasrc['mwebv'] = head[1].data['MWEBV']\n",
    "        my_diasrc['mwebv_err'] = head[1].data['MWEBV_ERR']\n",
    "        my_diasrc['z_final'] = head[1].data['REDSHIFT_FINAL']\n",
    "        my_diasrc['z_final_err'] = head[1].data['REDSHIFT_FINAL_ERR']\n",
    "        \n",
    "        if HOSTLIB_host:\n",
    "        \n",
    "                # properties of the host galaxy\n",
    "            my_diasrc['hostgal_logmass'] = head[1].data['SIM_HOSTLIB(LOGMASS_OBS)']\n",
    "            my_diasrc['hostgal_sfr']= head[1].data['SIM_HOSTLIB(STAR_FORMATION_RATE)']\n",
    "            my_diasrc['ellipticity'] = head[1].data['SIM_HOSTLIB(TOTAL_ELLIPTICITY)']\n",
    "            my_diasrc['size'] = head[1].data['SIM_HOSTLIB(SIZE_TRUE)']\n",
    "            my_diasrc['hostgal_specz'] = head[1].data['HOSTGAL_SPECZ']\n",
    "        \n",
    "        else:\n",
    "        \n",
    "            my_diasrc['hostgal_photoz']=head[1].data['HOSTGAL_PHOTOZ']\n",
    "            my_diasrc['hostgal_photoz_err']=head[1].data['HOSTGAL_PHOTOZ_ERR']\n",
    "            my_diasrc['hostgal_ra'] = head[1].data['HOSTGAL_RA']\n",
    "            my_diasrc['hostgal_dec'] = head[1].data['HOSTGAL_DEC']\n",
    "            my_diasrc['hostgal_snsep']= head[1].data['HOSTGAL_SNSEP']\n",
    "            my_diasrc['hostgal_logmass']= head[1].data['HOSTGAL_LOGMASS']\n",
    "            my_diasrc['hostgal_logmass_err']= head[1].data['HOSTGAL_LOGMASS_ERR']\n",
    "            my_diasrc['hostgal_ssfr']= head[1].data['HOSTGAL_sSFR']\n",
    "            my_diasrc['hostgal_ssfr_err']= head[1].data['HOSTGAL_sSFR_ERR']\n",
    "            my_diasrc['hostgal_mag_u']= head[1].data['HOSTGAL_MAG_u']\n",
    "            my_diasrc['hostgal_magerr_u']= head[1].data['HOSTGAL_MAGERR_u']\n",
    "            my_diasrc['hostgal_mag_g']= head[1].data['HOSTGAL_MAG_g']\n",
    "            my_diasrc['hostgal_magerr_g']= head[1].data['HOSTGAL_MAGERR_g']\n",
    "            my_diasrc['hostgal_mag_r']= head[1].data['HOSTGAL_MAG_r']\n",
    "            my_diasrc['hostgal_magerr_r']= head[1].data['HOSTGAL_MAGERR_r']\n",
    "            my_diasrc['hostgal_mag_i']= head[1].data['HOSTGAL_MAG_i']\n",
    "            my_diasrc['hostgal_magerr_i']= head[1].data['HOSTGAL_MAGERR_i']\n",
    "            my_diasrc['hostgal_mag_z']= head[1].data['HOSTGAL_MAG_z']\n",
    "            my_diasrc['hostgal_magerr_z']= head[1].data['HOSTGAL_MAGERR_z']\n",
    "\n",
    "        alert['diaSource'] = my_diasrc\n",
    "     \n",
    "        #print('-------')\n",
    "        for count, i in enumerate(ginds[0]):\n",
    "            #print(count,i)\n",
    "            my_diasrc = copy(diasrc)\n",
    "            my_diasrc['diaSourceId'] = my_diasrc['diaSourceId']+count+1\n",
    "            my_diasrc['midPointTai'] = mjd[i]\n",
    "            my_diasrc['filterName'] = filt[i]\n",
    "            my_diasrc['snr'] = snr[i]\n",
    "            my_diasrc['apFlux'] = fluxcal[i]\n",
    "            my_diasrc['apFluxErr'] = fluxcalerr[i]\n",
    "            alert['prvDiaSources'].append(alert['diaSource'])\n",
    "            #print(alert['prvDiaSources'])\n",
    "            #print('*******')\n",
    "            alert['diaSource'] = my_diasrc\n",
    "            #print(alert['diaSource'])\n",
    "\n",
    "        print('====')   \n",
    "        #alert['prvDiaSources']\n",
    "        #dflc = make_dataframe(alert)\n",
    "        #plot_lightcurve(dflc)\n",
    "        avro_bytes = schema.serialize(alert)\n",
    "        messg = schema.deserialize(avro_bytes)\n",
    "        iterNum=0\n",
    "        keep[countm]=int(countm)\n",
    "        with open(\"plasticcAlert_%s_%i.avro\"%(name,iterNum), \"wb\") as f:\n",
    "            schema.store_alerts(f, [alert])\n",
    "    except:\n",
    "        print(f\"This model {name} seems to have no data\")\n",
    "        keep[countm]=int(0)"
   ]
  },
  {
   "cell_type": "code",
   "execution_count": 31,
   "metadata": {},
   "outputs": [
    {
     "name": "stdout",
     "output_type": "stream",
     "text": [
      "[]\n"
     ]
    }
   ],
   "source": [
    "#print(keep)\n",
    "keep = np.where(keep)[0]\n",
    "print(keep)"
   ]
  },
  {
   "cell_type": "code",
   "execution_count": null,
   "metadata": {},
   "outputs": [],
   "source": [
    "#print(keep)\n",
    "for count in keep:\n",
    "    iterNum=0\n",
    "    print(count, modelname[count])\n",
    "    fname= savedir+'/'+\"plasticcAlert_%s_%i.avro\"%(modelname[count],iterNum)\n",
    "\n",
    "    with open(fname,'rb') as f:\n",
    "        freader = DataFileReader(f,DatumReader())\n",
    "        for alert in freader:\n",
    "            print(alert.keys())\n",
    "            dflc = make_dataframe(alert)\n",
    "            plot_lightcurve(dflc)"
   ]
  },
  {
   "cell_type": "code",
   "execution_count": null,
   "metadata": {},
   "outputs": [],
   "source": []
  },
  {
   "cell_type": "code",
   "execution_count": null,
   "metadata": {},
   "outputs": [],
   "source": []
  }
 ],
 "metadata": {
  "kernelspec": {
   "display_name": "Python 3",
   "language": "python",
   "name": "python3"
  },
  "language_info": {
   "codemirror_mode": {
    "name": "ipython",
    "version": 3
   },
   "file_extension": ".py",
   "mimetype": "text/x-python",
   "name": "python",
   "nbconvert_exporter": "python",
   "pygments_lexer": "ipython3",
   "version": "3.7.4"
  }
 },
 "nbformat": 4,
 "nbformat_minor": 4
}
