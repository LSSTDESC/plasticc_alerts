{
 "cells": [
  {
   "cell_type": "markdown",
   "metadata": {},
   "source": [
    "## PLAsTiCC v2.0 alert simulation "
   ]
  },
  {
   "cell_type": "markdown",
   "metadata": {},
   "source": [
    "This is a demo of how we can add catalog simulations to LSST alerts in avro forma, which the Rubin project is using. \n",
    "This workbook includes the contributions of Rahul Biswas, Cameron Stockton, Martine Lokken, Alex Gagliano, Gautham Narayan, Renée Hlozek and the rest of the PLAsTiCC v2.0 team, and the DESC Alerts Topical Team."
   ]
  },
  {
   "cell_type": "markdown",
   "metadata": {},
   "source": [
    "Follow the README of this repository and then the README of `alert_packet` for setup. This involves installing `alert_packet` in some way."
   ]
  },
  {
   "cell_type": "markdown",
   "metadata": {},
   "source": [
    "This notebook is based on the examples and codes in `alert_packet` :https://github.com/lsst/alert_packet"
   ]
  },
  {
   "cell_type": "code",
   "execution_count": 14,
   "metadata": {},
   "outputs": [
    {
     "data": {
      "text/plain": [
       "0"
      ]
     },
     "execution_count": 14,
     "metadata": {},
   "output_type": "execute_result"
    }
   ],
   "source": [
    "import os \n",
    "os.system('source /global/common/software/lsst/common/miniconda/kernels/setup.sh')"
   ]
  },
  {
   "cell_type": "code",
   "execution_count": 17,
   "metadata": {},
   "outputs": [],
   "source": [
    "import sys \n",
    "from IPython.display import Image\n",
    "#Image(filename='alert.jpg', width = 800)"
   ]
  },
  {
   "cell_type": "code",
   "execution_count": null,
   "metadata": {},
   "outputs": [],
   "source": [
    "import lsst.alert.packet"
   ]
  },
  {
   "cell_type": "code",
   "execution_count": null,
   "metadata": {},
   "outputs": [],
   "source": [
    "from pathlib import Path\n",
    "import matplotlib.pyplot as plt\n",
    "import os\n",
    "from copy import copy\n",
    "import json"
   ]
  },
  {
   "cell_type": "code",
   "execution_count": 20,
   "metadata": {},
   "outputs": [
    {
     "data": {
      "text/plain": [
       "sys.version_info(major=3, minor=8, micro=8, releaselevel='final', serial=0)"
      ]
     },
     "execution_count": 20,
     "metadata": {},
     "output_type": "execute_result"
    }
   ],
   "source": [
    "sys.version_info"
   ]
  },
  {
   "cell_type": "code",
   "execution_count": null,
   "metadata": {},
   "outputs": [],
   "source": [
    "import json\n",
    "import pandas as pd\n",
    "from astropy.io import fits\n",
    "import numpy as np\n",
    "from astropy.time import Time\n",
    "import glob\n",
    "#from avro.datafile import DataFileReader#, DataFileWriter\n",
    "from fastavro import writer, reader\n",
    "#from avro.io import DatumReader #, DatumWriter\n",
    "\n",
    "HOSTLIB_host=True"
   ]
  },
  {
   "cell_type": "markdown",
   "metadata": {},
   "source": [
    "### These functions will enable us to plot the output from our avro object\n",
    "Example functions taken from https://github.com/ZwickyTransientFacility/ztf-avro-alert/blob/master/notebooks/Working_with_avro_files.ipynb"
   ]
  },
  {
   "cell_type": "code",
   "execution_count": 22,
   "metadata": {},
   "outputs": [],
   "source": [
    "def make_dataframe(packet):\n",
    "    df = pd.DataFrame(packet['diaSource'], index=[0])\n",
    "    df_prv = pd.DataFrame(packet['prvDiaSources'])\n",
    "    return pd.concat([df,df_prv], ignore_index=True)\n",
    "\n",
    "def plot_lightcurve(dflc, days_ago=True):\n",
    "    \n",
    "    filter_color = {'g':'green', 'r':'red', 'u':'pink'}\n",
    "    if days_ago:\n",
    "        now = Time.now().jd\n",
    "        t = dflc.midPointTai - now\n",
    "        xlabel = 'Days Ago'\n",
    "    else:\n",
    "        t = dflc.midPointTai\n",
    "        xlabel = 'Time (JD)'\n",
    "    \n",
    "    plt.figure()\n",
    "    for fid, color in filter_color.items():\n",
    "        # plot detections in this filter:\n",
    "        w = (dflc.filterName == fid) & ~dflc.psFlux.isnull()\n",
    "        if np.sum(w):\n",
    "            plt.errorbar(t[w],dflc.loc[w,'apFlux'], dflc.loc[w,'apFluxErr'],fmt='.',color=color)\n",
    "        #wnodet = (dflc.fid == fid) & dflc.magpsf.isnull()\n",
    "        #if np.sum(wnodet):\n",
    "         #   plt.scatter(t[wnodet],dflc.loc[wnodet,'diffmaglim'], marker='v',color=color,alpha=0.25)\n",
    "    \n",
    "    plt.gca().invert_yaxis()\n",
    "    plt.xlabel(xlabel)\n",
    "    plt.ylabel('Magnitude')"
   ]
  },
  {
   "cell_type": "markdown",
   "metadata": {},
   "source": [
    "### Let's read in the schema from the Rubin alert.packet \n",
    "In this case we are modifying the usual alert schema to have (lots of) additional information in it. The expected list of host information will be more like host magnitudes and host errors, the light profile moments and PSF information. "
   ]
  },
  {
   "cell_type": "code",
   "execution_count": 23,
   "metadata": {},
   "outputs": [],
   "source": [
    "# For those interested in modified alert schemas, this is included in the repo as an example, modified from the `alert_packet' repo\n",
    "#schema = lsst.alert.packet.Schema.from_file(\"./plasticc_schema/lsst.v4_1.alert.avsc\",\"lsst.v4_1.alert\")\n",
    "schema = lsst.alert.packet.Schema.from_file(\"./plasticc_schema/lsst.v4_1.alert.avsc\")"
   ]
  },
  {
   "cell_type": "markdown",
   "metadata": {},
   "source": [
    "We now read in an example json file that matches our schema."
   ]
  },
  {
   "cell_type": "code",
   "execution_count": 26,
   "metadata": {},
   "outputs": [],
   "source": [
    "path = Path('./plasticc_schema/sample_data/')\n",
    "with open(path/'plasticc.json') as f:\n",
    "    alert_data = json.load(f)"
   ]
  },
  {
   "cell_type": "markdown",
   "metadata": {},
   "source": [
    "\n",
    "### What does the alert data schema look like?\n",
    "It has one diaSource object for the current epoch"
   ]
  },
  {
   "cell_type": "code",
   "execution_count": 27,
   "metadata": {},
   "outputs": [
    {
     "data": {
      "text/plain": [
       "{'diaSourceId': 281323062375219200,\n",
       " 'ccdVisitId': 111111,\n",
       " 'midPointTai': 1480360995,\n",
       " 'filterName': 'r',\n",
       " 'programId': 1,\n",
       " 'ra': 351.570546978,\n",
       " 'decl': 0.126243049656,\n",
       " 'raSigma': 0.00028,\n",
       " 'declSigma': 0.00028,\n",
       " 'ra_decl_Cov': 0.00029,\n",
       " 'x': 112.1,\n",
       " 'y': 121.1,\n",
       " 'xSigma': 1.2,\n",
       " 'ySigma': 1.1,\n",
       " 'x_y_Cov': 1.2,\n",
       " 'apFlux': 1241.0,\n",
       " 'apFluxErr': 12.0,\n",
       " 'snr': 41.1,\n",
       " 'psFlux': 1241.0,\n",
       " 'psFluxErr': 12.0,\n",
       " 'flags': 0,\n",
       " 'nobs': 0,\n",
       " 'mwebv': 0,\n",
       " 'mwebv_err': 0,\n",
       " 'z_final': 0,\n",
       " 'z_final_err': 0,\n",
       " 'hostgal_logmass': 0,\n",
       " 'hostgal_sfr': 0,\n",
       " 'hostgal_ssfr': 0,\n",
       " 'hostgal_ssfr_err': 0,\n",
       " 'ellipticity': 0,\n",
       " 'size': 0,\n",
       " 'hostgal_z': 0,\n",
       " 'hostgal_mag_u': 0,\n",
       " 'hostgal_mag_g': 0,\n",
       " 'hostgal_mag_r': 0,\n",
       " 'hostgal_mag_i': 0,\n",
       " 'hostgal_mag_z': 0,\n",
       " 'hostgal_ra': 0,\n",
       " 'hostgal_dec': 0,\n",
       " 'hostgal_snsep': 0,\n",
       " 'hostgal_magerr_u': 0,\n",
       " 'hostgal_magerr_g': 0,\n",
       " 'hostgal_magerr_r': 0,\n",
       " 'hostgal_magerr_i': 0,\n",
       " 'hostgal_magerr_z': 0,\n",
       " 'hostgal_logmass_err': 0}"
      ]
     },
     "execution_count": 27,
     "metadata": {},
     "output_type": "execute_result"
    }
   ],
   "source": [
    "alert_data['diaSource']"
   ]
  },
  {
   "cell_type": "markdown",
   "metadata": {},
   "source": [
    "### What about previous diaSources?\n",
    "The previous diaSources for this diaObject are also nested in the schema"
   ]
  },
  {
   "cell_type": "code",
   "execution_count": 28,
   "metadata": {},
   "outputs": [],
   "source": [
    "alert_data['prvDiaSources'];"
   ]
  },
  {
   "cell_type": "markdown",
   "metadata": {},
   "source": [
    "This alert schema is just a dictionary: next we will read data from SNANA and write it to the values of the correct keys. We start by pulling off the first record to overwrite with SNANA information"
   ]
  },
  {
   "cell_type": "code",
   "execution_count": 29,
   "metadata": {},
   "outputs": [],
   "source": [
    "diasrc = alert_data['prvDiaSources'][0]"
   ]
  },
  {
   "cell_type": "markdown",
   "metadata": {},
   "source": [
    "## Taking an SNANA file and porting information to alert\n",
    "We will pull off models from the PLAsTiCC v2.0 DDF simulation, and assign the info to the alert packet. Note that we are adding information that isn't in the defined in the original LSST schema for this round. The following code takes the photometry and header files from SNANA and pushes them to a diaSource object for an index/epoch"
   ]
  },
  {
   "cell_type": "code",
   "execution_count": 30,
   "metadata": {},
   "outputs": [],
   "source": [
    "def import_diasrc_from_fits(head, phot,my_diasrc,hostlib_flag=True,i=0):\n",
    "    \n",
    "        my_diasrc['filterName'] = phot[1].data['BAND'][i]     \n",
    "        my_diasrc['apFlux'] = phot[1].data['FLUXCAL'][i]\n",
    "        my_diasrc['apFluxErr'] = phot[1].data['FLUXCALERR'][i]\n",
    "        my_diasrc['snr'] = phot[1].data['FLUXCAL'][i]/phot[1].data['FLUXCALERR'][i]\n",
    "        my_diasrc['midPointTai'] = phot[1].data['MJD'][i]\n",
    "    \n",
    "        # General properties\n",
    "        my_diasrc['ra'] = head[1].data['RA'][i]\n",
    "        my_diasrc['decl'] = head[1].data['DEC'][i]\n",
    "        my_diasrc['nobs'] = head[1].data['NOBS'][i]\n",
    "        my_diasrc['mwebv'] = head[1].data['MWEBV'][i]\n",
    "        my_diasrc['mwebv_err'] = head[1].data['MWEBV_ERR'][i]\n",
    "        my_diasrc['z_final'] = head[1].data['REDSHIFT_FINAL'][i]\n",
    "        my_diasrc['z_final_err'] = head[1].data['REDSHIFT_FINAL_ERR'][i]\n",
    "        \n",
    "        if hostlib_flag:\n",
    "            # properties of the host galaxy\n",
    "           # print('using HOSTLIB values')\n",
    "            #my_diasrc['hostgal_logmass'] = head[1].data['SIM_HOSTLIB(LOGMASS_TRUE)'][i]\n",
    "            #my_diasrc['hostgal_sfr']= head[1].data['SIM_HOSTLIB(LOG_SFR)'][i]\n",
    "            my_diasrc['ellipticity'] = head[1].data['SIM_HOSTLIB(TOTAL_ELLIPTICITY)'][0]\n",
    "            #my_diasrc['GHOST_ID']  = head[1].data['SIM_HOSTLIB(galaxy_id)'][i] #testing\n",
    "            my_diasrc['size'] = head[1].data['SIM_HOSTLIB(SIZE_TRUE)'][0]\n",
    "            my_diasrc['hostgal_z'] = head[1].data['HOSTGAL_SPECZ'][0]\n",
    "            my_diasrc['hostgal_mag_u']= head[1].data['HOSTGAL_MAG_u'][0] #check\n",
    "            my_diasrc['hostgal_mag_g']= head[1].data['SIM_HOSTLIB(MAG_TRUE_g_lsst)'][0]\n",
    "            my_diasrc['hostgal_mag_r']= head[1].data['SIM_HOSTLIB(MAG_TRUE_r_lsst)'][0]   \n",
    "            my_diasrc['hostgal_mag_i']= head[1].data['SIM_HOSTLIB(MAG_TRUE_i_lsst)'][0]  \n",
    "            my_diasrc['hostgal_mag_z']= head[1].data['SIM_HOSTLIB(MAG_TRUE_z_lsst)'][0]\n",
    "            my_diasrc['hostgal_mag_Y']= head[1].data['SIM_HOSTLIB(MAG_TRUE_Y_lsst)'][0]\n",
    "            \n",
    "        else:\n",
    "            #print('using uncorrelated SNANA values')\n",
    "           # my_diasrc['hostgal_logmass']= head[1].data['HOSTGAL_LOGMASS'][i]\n",
    "            my_diasrc['hostgal_z']=head[1].data['HOSTGAL_SPECZ'][i]\n",
    "            my_diasrc['hostgal_z_err']=head[1].data['HOSTGAL_SPECZ_ERR'][i]\n",
    "            #my_diasrc['hostgal_ssfr']= head[1].data['HOSTGAL_sSFR'][i]\n",
    "            #my_diasrc['hostgal_ssfr_err']= head[1].data['HOSTGAL_sSFR_ERR'][i]\n",
    "            my_diasrc['hostgal_mag_u']= head[1].data['HOSTGAL_MAG_u'][i]\n",
    "            my_diasrc['hostgal_mag_g']= head[1].data['HOSTGAL_MAG_g'][i]\n",
    "            my_diasrc['hostgal_mag_r']= head[1].data['HOSTGAL_MAG_r'][i]\n",
    "            my_diasrc['hostgal_mag_i']= head[1].data['HOSTGAL_MAG_i'][i]\n",
    "            my_diasrc['hostgal_mag_z']= head[1].data['HOSTGAL_MAG_z'][i]\n",
    "            my_diasrc['hostgal_mag_Y']= head[1].data['HOSTGAL_MAG_Y'][i]\n",
    "            \n",
    "        # Common to both\n",
    "        my_diasrc['hostgal_ra'] = head[1].data['HOSTGAL_RA'][i]\n",
    "        my_diasrc['hostgal_dec'] = head[1].data['HOSTGAL_DEC'][i]\n",
    "        my_diasrc['hostgal_snsep']= head[1].data['HOSTGAL_SNSEP'][i]\n",
    "        my_diasrc['hostgal_magerr_u']= head[1].data['HOSTGAL_MAGERR_u'][i]\n",
    "        my_diasrc['hostgal_magerr_g']= head[1].data['HOSTGAL_MAGERR_g'][i]\n",
    "        my_diasrc['hostgal_magerr_r']= head[1].data['HOSTGAL_MAGERR_r'][i]\n",
    "        my_diasrc['hostgal_magerr_i']= head[1].data['HOSTGAL_MAGERR_i'][i]\n",
    "        my_diasrc['hostgal_magerr_z']= head[1].data['HOSTGAL_MAGERR_z'][i]\n",
    "        #my_diasrc['hostgal_logmass_err']= head[1].data['HOSTGAL_LOGMASS_ERR'][i]\n",
    "\n",
    "        return my_diasrc\n"
   ]
  },
  {
   "cell_type": "markdown",
   "metadata": {},
   "source": [
    "Now we read in the data from a particular SNANA model. In this case we are using a small SNANA simulation that includes the host properties (from work by Martine Lokken and Alex Gagliano). The full PLAsTiCC suite will contain alerts for a range of different objects from a variety of models."
   ]
  },
  {
   "cell_type": "code",
   "execution_count": 31,
   "metadata": {},
   "outputs": [
    {
     "name": "stdout",
     "output_type": "stream",
     "text": [
      "Running alerts for the model list: ['AG_WRONGHOST_NONIaMODEL0']\n"
     ]
    }
   ],
    "savedir='/global/homes/a/agaglian/plasticc_alerts/Examples'\n",
    "os.chdir(savedir)\n",
    "retval = os.getcwd()\n",
    "#simdir='/global/cscratch1/sd/kessler/SNANA_LSST_SIM/GSN_LSST_DDF/'\n",
    "simdir='../hostSims/'\n",
    "os.chdir(simdir)\n",
    "modelname = glob.glob('*MODEL*')\n",
    "os.chdir(retval)\n",
    "print(f\"Running alerts for the model list: {modelname}\")\n"
   ]
  },
  {
   "cell_type": "code",
   "execution_count": 35,
   "metadata": {},
   "outputs": [
    {
     "name": "stdout",
     "output_type": "stream",
     "text": [
      "AG_WRONGHOST_NONIaMODEL0\n",
      "\n",
      "Saving model AG_WRONGHOST_NONIaMODEL0 as plasticcAlert_AG_WRONGHOST_NONIaMODEL0_0.avro\n",
      "Done saving models\n"
     ]
    },
    {
     "data": {
      "text/plain": [
       "<Figure size 864x4320 with 0 Axes>"
      ]
     },
     "metadata": {},
     "output_type": "display_data"
    },
    {
     "data": {
      "image/png": "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\n",
      "text/plain": [
       "<Figure size 432x288 with 1 Axes>"
      ]
     },
     "metadata": {
      "needs_background": "light"
     },
     "output_type": "display_data"
    }
   ],
   "source": [
    "fig = plt.figure(figsize=(12,60))\n",
    "number_of_subplots=len(modelname)\n",
    "#print(number_of_subplots)\n",
    "\n",
    "# Some objects will not have data, so as we iterate over objects we keep track of those that were successfully written to file\n",
    "keep = -9*np.ones(len(modelname))\n",
    "\n",
    "for countm,name in enumerate(modelname):\n",
    "    print(name)\n",
    "    # Open the photometry file and the header files\n",
    "    name_head=simdir+'/'+name+'/'+'%s-0001_HEAD.FITS.gz'%name\n",
    "    name_phot=simdir+'/'+name+'/'+'%s-0001_PHOT.FITS.gz'%name\n",
    "    \n",
    "    head = fits.open(name_head)\n",
    "    head_cols=head[1].columns\n",
    "    phot = fits.open(name_phot)\n",
    "    phot_cols=phot[1].columns\n",
    "\n",
    "    # now take header information off the photometry just to plot the models\n",
    "    mjd = phot[1].data['MJD']\n",
    "    mag = phot[1].data['SIM_MAGOBS']\n",
    "    print()\n",
    "\n",
    "    # The SNANA objects are stored with -777 between objects in a given model. \n",
    "    # For this demo we pull off only the first object in the model\n",
    "    bound = np.where(mjd==-777)[0][0]-1\n",
    "\n",
    "    if number_of_subplots==1:\n",
    "         ax1 = plt.subplots(1,1)\n",
    "    else: \n",
    "        ax1 = plt.subplot(number_of_subplots,1,countm+1)\n",
    "\n",
    "    plt.plot(mjd, mag,'.')\n",
    "    #plt.text(60600,45, '%s'%name)\n",
    "    plt.axis([50500,64000, 20,50])\n",
    "\n",
    "    # copy the original alert data and clear all old sources\n",
    "    alert = copy(alert_data_orig)\n",
    "    diasrc = alert_data_orig['prvDiaSources'][0]\n",
    "    my_diasrc = copy(diasrc)\n",
    "    alert = copy(alert_data_orig)\n",
    "    alert['prvDiaSources'].clear()\n",
    "\n",
    "\n",
    "    # Make a dummy source ID and import additional information to the diaSource\n",
    "    my_diasrc['diaSourceId'] = np.int64(28132306237521+1000*np.random.uniform())\n",
    "    my_diasrc = import_diasrc_from_fits(head, phot,my_diasrc,HOSTLIB_host,i=0)        \n",
    "    alert['diaSource'] = my_diasrc\n",
    "\n",
    "    # Writing the g band light curves to a dummy alert for now\n",
    "    ginds = np.where(phot[1].data['BAND'][0:bound]=='g')[0]\n",
    "\n",
    "    # for each item in the light curve, create a new diaSource or \n",
    "    # append the list of previous diaSources\n",
    "    for count, i in enumerate(ginds):\n",
    "        #print(count,i)\n",
    "        my_diasrc = copy(diasrc)\n",
    "        my_diasrc['diaSourceId'] = my_diasrc['diaSourceId']+count+1\n",
    "        my_diasrc = import_diasrc_from_fits(head, phot,my_diasrc,HOSTLIB_host,i)\n",
    "        alert['prvDiaSources'].append(alert['diaSource'])\n",
    "        alert['diaSource'] = my_diasrc\n",
    "\n",
    "    # serialize the alert    \n",
    "    avro_bytes = schema.serialize(alert)\n",
    "    messg = schema.deserialize(avro_bytes)\n",
    "    iterNum=0\n",
    "\n",
    "    # keep a record of if we indeed have a viable light curve to save\n",
    "    keep[countm]=int(countm)\n",
    "    with open(\"plasticcAlert_%s_%i.avro\"%(name,iterNum), \"wb\") as f:\n",
    "        schema.store_alerts(f, [alert])\n",
    "    print(f\"Saving model {name} as plasticcAlert_{name}_{iterNum}.avro\")\n",
    "\n",
    "    print(f\"Done saving models\")"
   ]
  },
  {
   "cell_type": "code",
   "execution_count": 45,
   "metadata": {},
   "outputs": [
    {
     "name": "stdout",
     "output_type": "stream",
     "text": [
      "0 AG_WRONGHOST_NONIaMODEL0\n",
      "Reading /global/homes/a/agaglian/plasticc_alerts/Examples/plasticcAlert_AG_WRONGHOST_NONIaMODEL0_0.avro\n"
     ]
    },
    {
     "name": "stderr",
     "output_type": "stream",
     "text": [
      "/opt/lsst/software/stack/conda/miniconda3-py38_4.9.2/envs/lsst-scipipe-0.6.0/lib/python3.8/site-packages/numpy/core/_asarray.py:102: UserWarning: Warning: converting a masked element to nan.\n",
      "  return array(a, dtype, copy=False, order=order)\n",
      "/opt/lsst/software/stack/conda/miniconda3-py38_4.9.2/envs/lsst-scipipe-0.6.0/lib/python3.8/site-packages/numpy/core/_asarray.py:102: UserWarning: Warning: converting a masked element to nan.\n",
      "  return array(a, dtype, copy=False, order=order)\n"
     ]
    },
    {
     "data": {
      "image/png": "iVBORw0KGgoAAAANSUhEUgAAAYQAAAERCAYAAAB7FtAjAAAAOXRFWHRTb2Z0d2FyZQBNYXRwbG90bGliIHZlcnNpb24zLjQuMiwgaHR0cHM6Ly9tYXRwbG90bGliLm9yZy8rg+JYAAAACXBIWXMAAAsTAAALEwEAmpwYAAAhdUlEQVR4nO3de5hdVZnn8e+bimk7A6KEII6QLukBUVFu0Zlo010QVKS9TdNq4yW2MOSx57FbpsdbhmaMzfRTPTqPQ+MNos0lijjjgEJ7AUmGgtIuuklogiSIFwhUfJxJjIgwCCGVd/7Yu5qTw7nsc86+rb1+n+epp6r2uey1zrv3efdea+21zd0RERFZUHUBRESkHpQQREQEUEIQEZGUEoKIiABKCCIiklJCEBERIMCEYGaXmdlOM7s74/PfambbzGyrmX256PKJiITKQrsOwcx+F3gUWO/ux/Z57lHA/wROdfeHzOxQd99ZRjlFREIT3BmCu98K/KJ1mZn9tpndYGabzWzazI5JHzoX+Iy7P5S+VslARKSL4BJCF+uAP3X3k4APAJ9Nlx8NHG1m3zOz28zs9MpKKCJScwurLsCozOwA4JXAV81sfvFvpL8XAkcBE8DhwLSZHevuvyy5mCIitRd8QiA5y/mlux/f4bEdwG3u/iRwv5ndS5Igbi+xfCIiQQi+ycjdf0XyZf8WAEsclz78deCUdPkhJE1I91VRThGRugsuIZjZ1cAM8EIz22Fm5wDvAM4xsy3AVuBN6dNvBHab2TbgZuCD7r67inKLiNRdcMNORUSkGMGdIYiISDGC6lQ+5JBDfHx8vOpiiIgEZfPmzT9396X9nhdUQhgfH2fTpk1VF0NEJChm9kCW56nJSEREACUEERFJKSGIiAighCAiIiklBBERAZQQREQkpYRQsJnZGSanJ5mZnam6KFICxVtCFtR1CKGZmZ1h5fqV7Jnbw6KxRWxctZEVR6youlhSEMVbQqczhAJNbZ9iz9we5nyOPXN7mNo+VXWRpECKt4ROCaFAE+MTLBpbxJiNsWhsERPjE1UXSQqkeEvogprtdPny5V6nqStmZmeY2j7FxPhE16aBLM+RMCjeEioz2+zuy/s+TwlhOGovjoviLSHLmhDUZDQktRfHRfGWGCghDEntxXFRvCUGlTQZmdkngDcAe4CfAO9x91/2e12dmoxA7cWxUbwlVLXuQzCz1wD/2933mtl/BXD3D/d7Xd0SgohICGrdh+Du33H3vem/twGHV1EOERF5Sh36EM4Gvt3tQTNbbWabzGzTrl27SiyWiEhcCpu6wsw2AId1eOh8d78ufc75wF7gqm7v4+7rgHWQNBkVUFQREaHAhODup/V63MzeDbweWOkhXQwhItJQlUxuZ2anAx8Gfs/dH6uiDCIisr+q+hA+DRwI3GRmd5rZJRWVQ0REUpWcIbj7v6pivSIi0l0dRhmJiEgNKCGIiAighCAiIiklBBERAZQQREQkpYQgIiKAEoKIiKSUEEREBFBCEBGRlBKCiIgASggiIpJSQhAREUAJQUREUkoIFZmZnWFyepKZ2ZlGrk/2p3hLCCqZ/jp2M7MzrFy/kj1ze1g0toiNqzay4ogVjVmf7E/xllDoDKECU9un2DO3hzmfY8/cHqa2TzVqfbI/xVtCoYRQgYnxCRaNLWLMxlg0toiJ8YlGrU/2p3hLKCyk+9svX77cN23aVHUxcjEzO8PU9ikmxidKOZ0ve32yP8VbqmRmm919ed/nxZ4QtOOEI49YKd5hKSJeMW4DWRNC1J3K6nwLRx6xUrzDUkS8tA30FnUfgjrfwpFHrBTvsBQRL20DvUWdENT5Fo48YqV4h6WIeGkb6E19CBG2J4aqNVbAUHFTvMMyH68li5ew+7HducQtxm1AncrSWGoHjoviPbqsCSHqJiMJk9qB46J4l0cJQYKjduC4KN7lUZORBCnGduCYKd6jUR+CiIgA6kMQEZEBKSGIiAighBC19puo6KYqzaZ4Sz9Rz2UUs/ax3RedfhHn3XCexno3lOItWegMoYumHz21j+2+Zts1UY/1Vrynqi5iNOq8rVVyhmBmbwHWAi8CXuHutRo6FMOVkfNju+freOaLz2T6wel//j+msd6Kd1zxrlLdt7WqmozuBv4AuLSi9ffU6crIOgUtDyuOWMHGVRv3G9v90kNfGuVYb8U7rnhXqe7bWiUJwd3vATCzKlbfV/vRVFOPnlYcsWK/jbH9/1go3lKWum9rlV6YZmZTwAd6NRmZ2WpgNcCyZctOeuCBB0opW1VXRuqKzGpU+bkr5nGpIt6VX6lsZhuAwzo8dL67X5c+Z4o+CaFV069Urnv7ouRPMZcyVH6lsruf5u7Hdvi5rqh1hq7frI51Hp0gw+kVc8VbyqbrEGqkV/uijiSbqVvMFW+pQlXDTv8t8ClgKfBNM7vT3V9bRVnqpNNIkHl1H50gw+kWc8VbqlDVKKOvAV+rYt11123kR91HJ8jwOsVc8ZYqaPrrgJQ1OiHUUS+hlrubMusT4mcXYpmrUvkooyLEnhDKEGrbdajlroMQP7sQy1ylykcZxS7UESKh3r+2DuVWzMsTYplDoFFGA8h6ihry0UuobddFlHuQJgnFvFwhljkESggZDbLDhzxCpNdIpzrLu9yDfsEr5uUKscwhUELIaJAdPvSjl1DnuMmz3IN+wSvm5QuxzHWnhJDRIDu8jl56C2F0yKBf8Ip5byHEXDTKaCDaqEcXUlu74p2PkGLeVFlHGUV3hjDKTq5T1NGV3daueFevzJgriY8mqoSgI5XqldnWrnjXQ1kxV7xHF9V1CFnHLoc6njwE823tF55yYeE7rOJdD2XFvG7XJoS4XUV1hpDlSEVHGcPLerpeVlOM4l2sQZpnyoh5nUZ6hbpdRZUQsowECXk8eZXquAMo3sUJNd5lCXW7iiohQP8jlTodZYSk2+l61Tun4l2MUONdllC3q+gSQj91OsooSx4jM9p3gCWLl+RyBFn0qJEY4w2jf66hxrssoW5XSggd1OUoo5O8d5i8Tv3bd4Asp8z96lJWs0RM8Z5/z1E/15DjXZY6b1fdKCEEpIgdJs+2zvYdoNcpc5a6hNoOm5eiviDz+lwV7+aJathp6IoYVjd/6j9mY7m2dfYbapilLkWVLRRFDaMs4nNVvJsh0xmCmRnwDuBId/9LM1sGHObu/1ho6WQ/RXRUFdnW2euUOUtdQm2HzUtRHZNFfa6Kd/gyzWVkZp8D9gGnuvuLzOw5wHfc/eVFF7BV1XMZ1UFTOt2gWXUpSpM+oybVJTS53kLTzO5w9xPN7J/c/YR02RZ3Py6HsmY2bELQhhgXxTs+inlveU9u96SZjQGevvlSkjOG2mvayIWiddqxQtrZFO/BhB5vUMzzlDUhXAx8DTjUzP4K+EPgLworVY40ciG7TjsWENTOpnhn14R4g2Kep0wJwd2vMrPNwErAgDe7+z2FliwnVVwxGNoR1rxuI0FC2tkU7+yaEG8I96rgOuqZEMzs4JZ/dwJXtz7m7r8oqmB5KXvkQsinr912rE7LhvkSLOOLU/HOrgnxBo1OylO/M4TNJP0GBiwDHkr/fjbwIPCCIguXl/bhcEVuqEWcvpbVztttx2pfNsyXYK/X5F2X0OMN5cS8KfGer0tZMW+yngnB3V8AYGaXANe7+7fS/18HnFZ88fJX9BFd3qevZbfzdhpL3r5smC/Bbq8pOh6hxRvKjXnT4g1hn7VVLeuVyi+fTwYA7v5t4PeKKVKxir6JRr8rNgfVqbxl3Qik2w0+hrmitNtriq5LaPGG6mLehHiXtY6myjrK6Odm9hfAl0iakN4J7C6sVAUqowMqz0mtBmnnbTfKaXOvo6xh2my7vSbrTWyGrUdo8YZqYt6UeGddh3SW9cK0g4GPAr+bLroV+FjZncp5XakcWvviMO3Jo542T05PcsHNFzDnc4zZGBeeciFrTl6TW53ay9qtLnmc/ocWbyg/5k2Kd791xCjXC9PSL/73j1yqmsj7iK5oWdp523U7bc66k5R5lNWrLnl02oYWb8gn5uu3rI8y3v3WId1lndzuZtKrlFu5+6m5l0hyMeoNTOoylK/TF1UTrq4tQutnNbZgjMvvvJy9+/Yq3pJZ1iajk1r+fSZwJrDX3T9UVME6qXJyu24b4Kjt9L1OnYd5rNvzprZPldYkkLfWesDTR9t0WlbEUN9ey0d5z1Ee67aOBx9+kM/f8XnFW4D8m4w2ty36npndMlTJamLQnazTBjhKe2e/cdrDPNau/bQ51I621npMTk8OfXXtIIk0xHi3flYzszNcueVKxVtnEQPJ2mTUesXyAuAk4LBRV25mpwN/A4wBX3D3vx71PbPIupO1Hm112gBHae/s9drWx57Y+wRrp9aydmJt5nV22hHq0iQwqmFH4GSJueJdP0XGu27qkMCyDjttvWJ5L3A/cM4oK05nT/0M8GpgB3C7mV3v7ttGed+OHn4UHn4EDjoQDjogU4dr6wY1tmCMhQsWwj722wBH6Yjr9dr5x57Y+wT72MeG+zcw/eA0G1dt7LvOfsMH5+vZ+n9Iun3R9fvy69fh2tR4z9dtcnoyyMSQV7xHvYK86C/ruiSwrAnhRe7+eOsCM/uNEdf9CuDH7n5f+n5fAd4E5JsQHn4U7roX9jksMHjZCzN1uLZuUOyDc088l2UHLRvpKKx9o2p9LbDfTrtx1UbWTq1lw/0b2Of7/nmjXnPymp7r7LUj1GWjG9UwI3D6dbgWEW/YP+Zlx3t+/aHHfNR4j9pkVsZnmHcCG1bWhPD3wIlty2Y6LBvE84HZlv93AP+6/UlmthpYDbBs2bLB1/LwI0kygOT3w4+wYtn+O3anYLRvUKuOW9UxQFmHt3XbqHq1Ta+dWMv0g9NP26h7rbPXjlCXja4KrV/mrR2uRcUbOsd8zclrSos3xBvzPJvMyvgM63IxXb/ZTg8j+eL+TTM7gaTJCOBZwOIR120dlnUa2roOWAfJKKOB13LQgcmZwfwZwkEHAv07XPNug83ahtz62DBl6PWaumx0VenV4VpEm3u3uJYVb4g75oMk717K+Azr0ufTc9ipmb0b+GNgOdA63vMR4Ap3v3boFZutANa6+2vT/9cAuPtkt9cMPey0rQ+hkyrbCMs8ra9Dx1UdlPE5FDFaadhyKOajCf0zzPueyme6+zW5lOyp91wI/JDkpjs/BW4H3u7uW7u9porrEPLaEGZmZ1i/ZT1Ax+aI0De4JskjFvPvsWTxEnY/tjvX6xkkPqNuL7lch2Bm73T3LwHjZvbn7Y+7+ycHLtlTr91rZu8DbiQZdnpZr2RQhTznVWl9n1XHrXrac/I6va2LUSZZq/KLMq+5k/q9h+I92utiUuYZZb9O5X+R/u7czjKidErtb/V9YkXy6kyKrWNv2A24DiNi8oiV4h1OvENQ5vbU7wY5l6a/P1bI2msur86kJYuXsMAW4HgUHXvDbsCtr3t87+Os37K+9C+IPGKueIcT7xCUOTAg65XKS4FzgfHW17j72cUUqx7y6PmfmZ3hvBvOY27fHAsWLOCi0y9q/EafdYKyTq8bWzDG3NwcjnP5nZd3Hf5ZlFFjrniHFe8QlDkCKet1CNcB08AGYK6w0tTQqG2980dB+9iHubH7sSDvKzTQjJOdLrrL0jSw4ogVnH382Vy6+VIcZ+++vZU0t4wS86bEG7LHPPR4h6CsPqesCWGxu3+40JI0VNnjwIvopBvmHr+tG3CnCcq6lW3VcauCnZQNmhHv+fcdJOaxxrtpsiaEb5jZGa33VZZsyjzdK6qTrtvcT1l3+kG+JOtygc6wmhBvGC3mMcW7abImhPcD/8nMngCeJLnK2N39WYWVrMYGPSor63SvqNEIw844OW/Qnb6OQzIHiXno8YbRYt6EeMcq6/0QDiy6IKGo81C5Ipor5r8ILzr9oqddYBXLTl/XmBcZ7/bJ+AaNecjxjlnWUUadJrF7GHjA3ffmW6TyDXL0V+dpdfM+/e73RViHnX6Yz2/Q19Q15mXEu/0ua6HGvMr3DUnWJqPPksxs+v30/5cCW4AlZvZed/9OEYUrw6BHf8MOsctj3Vlk3WGzlLnuF1gN8/kN85o6xzymeENxZ2t1PQssW9aEsB04Z35qCTN7MfBB4ELgWiDYhDDoTjDsELs81p2XrBt/nWbK7PSF1q3js9cX3zCfeegxb0q8of+NjoYVQjIsQ9aEcEzrPEPuvs3MTnD3+8w6zWIdjmF2gmGH2OWx7jxk3fjrMgKk2xda++fX6UZH7WUe9jMPOeZNiTf0v9HRsGWuUzKsUtaEcK+ZfQ74Svr/24AfpndNe7KQkpVk1J1glA2pqh1w0GGBVbeXd/tCa//8snzx5fGZhxbzMuMNo8e8VxxbP79ONzoatux1SYZVyzr99W8C/x74HZIhp98l6Vd4nOSitUeLLOS8Kqa/ziLEzqg8y9ztvYqaLbbb++i+Et2VEe/5x8qYLTavdcUi1/sh1EVdE0LMeu2Uk9OTXHDzBcz5HGM2xoWnXPi0USuDrCfLF1poX9Sh6fclnFfMFe985XI/hJY3OwqYBF4MPHN+ubsfOXQJpRF6nd7n2S6btSmjDsMim6xfs1xeMVe8q5G1D+Fy4KPAfwdOAd5D53siS2R6fQGoXbZ5+n3hK+Zhy9qHsNndTzKz77v7S9Nl0+5+cuElbKEmo3rK85aT+hKpvzxvK6uYlyPXJiPgcTNbAPwove3lT4FDRymg9Jdlh6nDTpXHSCR1DsYTb1DM6yprQjgPWAz8GcnFaKcC7y6oTEHL8+ip3w7TlJ0q5IuCFO/hhBzzJss6ud3t6Z+PkvQfSAd57rBZdpim7FShXhSkeA8v1Jg3Xc+EYGbX93rc3d+Yb3Hqr9cRYZ47bJYdpik7VZ07IhXvYtQ55jHr2alsZruAWeBq4B9oG1nk7rcUWro2VXcq9zsizPuUPpQ25aZSvKUp8upUPgx4NXAW8Hbgm8DVrfMaxaTfEWHeRz1ZOu80Drs4irfEpmdCcPc54AbghnTeorOAKTP7S3f/VBkFrJMsp+wx7LBZb74eOsU7EUu8JcN1CGki+H2SZDAOXA9c5u4/Lbx0bapuMoLm7QiD1mfQm6+HTvGOK95NlUuTkZldCRwLfBv4mLvfnVP5gtWkI8Jh2sC73YOgKaNf2ineccU7dv36EN4F/D/gaODPWu59YIC7+7MKLJsUbJhRMt2aUZoy+qXJFG/pp18fwoKyCiLlG/bmQKPcfF2qo3hLP5r+ugJ1apeuU1maqk6fcZ3KIuXR/RBqqknTD0h/irfUQdaEoCahknXrpJNmUrwlJEoIJZtvxx2zsVw75GZmZ5icnmRmdiaX95N8FBVvUMwlf2oyqkDe7bhZplgIrd04xDJ3U0RdesU81M8u1HKHIO/7IRTCzC4DXg/sdPdjqyxLHrJu0HmPbe81nDDENuxQylxVvKF7zEP57NqFWu6mqbrJ6Arg9IrLkIv5DfqCmy9g5fqVpZ7G92qWCLENO4QyVxlv6B7zED67TkItd9NUeobg7rea2XiVZchLlXPVdxorPn/0umTxkuAuIgphmueq703QHnOAyenJIOMNYcQ8BpUmhCzMbDWwGmDZsmUVl6a7qjfo1maJ9tPvi06/iN2P7Q6mbTaEufKrjjc8FfPQ4w1hxDwGtU8I7r4OWAdJp3LFxemqTht0+9Hr7sd2s+bkNZWVZxhZ2t2r7IRUvPPXL+bqdC5e7RNCSOoyEVodjl6LVodOSMW7PHWIdwyiSQgxHV3U6ei1KFna8GOJueKdiCXeRap62OnVwARwiJntAD7q7n+b93piPLqoy9FrUfodFccWc8U7rngXpepRRmeVsZ6qR4RI/vodFSvmzaJ4lyOKJqOmt7HGeqrc66i4yTFXvJ+uyfEuUzRTVzR1J9KpcndNjLni3V0T452XIKauKFNT21h1qtxdE2OueHfXxHiXreqpK2RERc6mKfWjeEuRomkyajKdKsdF8ZZB6Y5pIiIC6I5pIiIyICUEEREBlBBERCSlhCAiIoASgoiIpJQQJFczszNMTk+WfktJqY5i3hzRXKksxdO0CvFRzJtFZwiSG90oPT6KebMoIUhuNK1CfBTzZtGVypIrTasQH8W8/jR1hRRCO39cFO9m0PTXkjt1IMZF8Y6P+hAksyI6EDVksb4U7/joDEEyy/s2hToCrTfFOz5KCJJZvxudD0p3/6o3xTs+SggykDxvU6gbo9ef4h0XjTKSSmkUS1wU72po2KnUkr4Q4qJ414OGnUrtqFMxLop3eDTsVEqjeW/ioniHRwlBSqN5b+KieIdHfQhSKrUpx0Xxrgd1KouICJA9IajJSEREACUEERFJKSGIiAighCAiIqnKEoKZHWFmN5vZPWa21czeX1VZRESk2iuV9wL/0d3vMLMDgc1mdpO7b6uwTCIi0arsDMHdf+bud6R/PwLcAzy/qvKIiMSuFn0IZjYOnAD8Q4fHVpvZJjPbtGvXrtLLJiISi8oTgpkdAFwDnOfuv2p/3N3Xuftyd1++dOnS8gsoIhKJShOCmT2DJBlc5e7XVlkWEZHYVTnKyIC/Be5x909WVQ4REUlUeYbwKuBdwKlmdmf6c0aF5RERiVplw07d/buAVbV+ERHZX+WdyiIiUg9KCCIiAigh1MrM7AyT05PMzM5UXRQpgeItdVPl1BXSQjckj4viLXWkM4Sa0A3J46J4Sx0pIdSEbkgeF8Vb6kj3VK4R3ZA8Loq3lCXrPZWVEEREGi5rQlCTkYiIAEoIIiKSUkIQERFACUFERFJKCC105Wh8FHMZRdO2H12pnNKVo/FRzGUUTdx+dIaQ0pWj8VHMZRRN3H6UEFK6cjQ+irmMoonbjy5Ma6ErR+OjmMsoQtl+dKWyiIgAulJZREQGpIQgIiKAEoKIiKSUEEREBFBCEBGRlBKCiIgAgQ07NbNdwANVl6MihwA/r7oQFYm57hB3/WOuO+RX/99y96X9nhRUQoiZmW3KMo64iWKuO8Rd/5jrDuXXX01GIiICKCGIiEhKCSEc66ouQIVirjvEXf+Y6w4l1199CCIiAugMQUREUkoIIiICKCGUzsw+YWY/MLO7zOxrZvbsHs8dM7N/MrNvtCw72MxuMrMfpb+f0/LYy8xsxsy2mtn3zeyZ6fIbzGxLuvwSMxsrtJI9lF1/M1tsZt9M17nVzP664Cp2VVHs/8rMZs3s0UIrl0FF9T8p/f/HZnaxmVmhlexen0LqbmbjZvZrM7sz/bmk5TVvS9e31cw+nqWcSgjluwk41t1fBvwQWNPjue8H7mlb9hFgo7sfBWxM/8fMFgJfAt7r7i8BJoAn09e81d2PA44FlgJvyacqQ6mi/v/N3Y8BTgBeZWavy6kug6qi7n8HvCKvCoyoivp/DlgNHJX+nJ5LTQZXSN1TP3H349Of9wKY2RLgE8DK9DN5rpmt7FdIJYSSuft33H1v+u9twOGdnmdmhwO/D3yh7aE3AVemf18JvDn9+zXAXe6+JV3PbnefS//+VfqchcAioLKRBGXX390fc/eb02V7gDu6rbNoFcX+Nnf/WW6VGEHZ9Tez5wHPcvcZT0bPrG95TakKrHs3RwI/dPdd6f8bgDP7lVMJoVpnA9/u8thFwIeAfW3Lnzu/g6e/D02XHw24md1oZneY2YdaX2RmNwI7gUeA/5VP8UdWWv0B0tP0N5AcYVWt1LrXUBn1fz6wo+X1O9JlVcuz7gAvSJuYbjGzk9NlPwaOSZuUFpIkkCP6FWxh5ipIZma2ATisw0Pnu/t16XPOB/YCV3V4/euBne6+2cwmMq52IfA7wMuBx4CNltw2byOAu782bVe9CjiV5BS2EHWsf7pTXA1c7O73DVaj7OpY9zLVqf7Arzo8t7Cz44rq/jNgmbvvNrOTgK+b2Uvc/SEz+xPgf5Akl78nOWvozd31U/IP8G5gBljc5fFJkqOZ7cD/IdnIv5Q+di/wvPTv5wH3pn//EXBFy3tcAHywy7o/HVv9gctIkkGUsQcerbruZdc/fc4PWpafBVzapLp3eI8pYHmH5auBj/ctY9UbSGw/JJ1a24ClGZ8/AXyj5f9PAB9J//7IfJCB55C0jy8mOWLaQNIWeUDLhrSQ5IjhfbHUP33svwDXAAtiin3be1WeECqK/e3AvwGMpJnmjIbVfSkwlv59JPBT4OD0/0NbPp87gaP7rrfqjSS2H5K2vdk0QHcCl6TL/yXwrQwbxhKSNvAfpb8PbnnsncBW4O6WDea56U5xV/rYp4CFEdX/cJJmgnta1vnvYqh7uvzjJEed+9Lfa2OJfbp8ebrsJ8CnSWdnaErdSTqKtwJbSJLiG1peczVJEtoG/FGWcmrqChERATTKSEREUkoIIiICKCGIiEhKCUFERAAlBBGR2jKzy8xsp5ndnfH5bzWzbemEdl8edH1KCBIVM5tLZ4XcaskMsH9uZoXuB2Z2gpm5mb22yPVII11Bxgn5zOwokknzXuXJhHbnDboyJQSJza89mRXyJcCrgTOAjxa8zrOA76a/RTJz91uBX7QuM7PftmRK+81mNm1mx6QPnQt8xt0fSl+7c9D1KSFItNIdZjXwPkuMpzvYHenPKwHM7Itm9qb515nZVWb2RjN7iZn9Y3rGcVd6hLYfMzPgD4E/Bl6Tzic1/9gFlsyRf5OZXW1mH0iXH29mt9lTc+c/p/19JWrrgD9195OADwCfTZcfDRxtZt9Lt5+Bp/pWQpCoeTLR3QKS2SN3Aq929xOBtwEXp0/7AvAeADM7CHgl8C3gvcDfuPvxJFfE7uDpXgXc7+4/IZln5oz0fZaTXGV6AvAH6evnrQc+7Mnc+d+n+DMYCYSZHUCy/X3VzO4ELiWZ2wiSaTuOIrnK+SzgC9bjRjydaLZTkWSeG4BnAJ82s+OBOZIjLtz9FjP7jJkdSvLlfY277zWzGeD8dA77a939Rx3e+yzgK+nfXwHeBVxLMjvnde7+awAz+7v090HAs939lvQ1VwJfzbW2ErIFwC/Tg5B2O4Db3P1J4H4zu5ckQdw+yJuLRMvMjiT58t8J/Afg/wLHkRyxL2p56heBd5CcKVwO4O5fBt4I/Bq40cxObXvvMZKzgP9sZttJ5pF6nZkdyFNJSCQzT252db+ZvQWSJkkzOy59+OvAKenyQ0gOaAaa6l0JQaJlZkuBS0imA3fgIOBn7r6P5Ei+9d7TV5CO2nD3renrjwTuc/eLgeuBl7Wt4jRgi7sf4e7j7v5bJLOuvpmkk/kNltz3+QCSmWlx94eBh1pudPIu4BYkSmZ2NcmU2S80sx1mdg7Jgck5ZraFZGK7+f6tG4HdZrYNuJlkCvTdA61Pk9tJTMxsjqRd/hkkNyr5IvBJd9+XdgpfQzIP/c0kHXcHtLz2BuDr7n5J+v8aklk2nySZv/7t7v6LludfQXIK33rj8zcCf+LurzOztSRNSg8Au4Apd/982mR1Ccl0zvcB75kfOSJSJCUEkQzMbDFJIjkxPYrP4z0PcPdH0/e+FVjt7nfk8d4iw1CTkUgfZnYa8APgU3klg9S6dKTIHSQd1UoGUimdIYiICKAzBBERSSkhiIgIoIQgIiIpJQQREQGUEEREJPX/ATePn60DetPmAAAAAElFTkSuQmCC\n",
      "text/plain": [
       "<Figure size 432x288 with 1 Axes>"
      ]
     },
     "metadata": {
      "needs_background": "light"
     },
     "output_type": "display_data"
    }
   ],
   "source": [
    "for count in keep:\n",
    "    iterNum=0\n",
    "    count = int(count)\n",
    "    print(count, modelname[count])\n",
    "    \n",
    "    fname= savedir+'/'+\"plasticcAlert_%s_%i.avro\"%(modelname[count],iterNum)\n",
    "    print(f\"Reading {fname}\")\n",
    "    with open(fname,'rb') as f:\n",
    "        freader = reader(f)\n",
    "        for alert in freader:\n",
    "            dflc = make_dataframe(alert)\n",
    "            plot_lightcurve(dflc)"
   ]
  }
 ],
 "metadata": {
  "kernelspec": {
   "display_name": "desc-stack-weekly-latest",
   "language": "python",
   "name": "desc-stack-weekly-latest"
  },
  "language_info": {
   "codemirror_mode": {
    "name": "ipython",
    "version": 3
   },
   "file_extension": ".py",
   "mimetype": "text/x-python",
   "name": "python",
   "nbconvert_exporter": "python",
   "pygments_lexer": "ipython3",
   "version": "3.8.8"
  }
 },
 "nbformat": 4,
 "nbformat_minor": 4
}
