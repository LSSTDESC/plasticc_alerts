{
 "cells": [
  {
   "cell_type": "markdown",
   "metadata": {},
   "source": [
    "This is a demo of how we can add catalog simulations to LSST alerts in avro forma, which the Rubin project is using. "
   ]
  },
  {
   "cell_type": "markdown",
   "metadata": {},
   "source": [
    "Follow the README of this repository and then the README of `alert_packet` for setup. This involves installing `alert_packet` in some way."
   ]
  },
  {
   "cell_type": "code",
   "execution_count": null,
   "metadata": {},
   "outputs": [],
   "source": [
    "This notebook is based on the examples and codes in `alert_packet` :https://github.com/lsst/alert_packet"
   ]
  },
  {
   "cell_type": "code",
   "execution_count": 1,
   "metadata": {},
   "outputs": [],
   "source": [
    "import lsst.alert.packet"
   ]
  },
  {
   "cell_type": "code",
   "execution_count": 2,
   "metadata": {},
   "outputs": [],
   "source": [
    "from pathlib import Path"
   ]
  },
  {
   "cell_type": "code",
   "execution_count": 3,
   "metadata": {},
   "outputs": [],
   "source": [
    "import json"
   ]
  },
  {
   "cell_type": "code",
   "execution_count": 4,
   "metadata": {},
   "outputs": [],
   "source": [
    "schema = lsst.alert.packet.Schema.from_file()"
   ]
  },
  {
   "cell_type": "markdown",
   "metadata": {},
   "source": [
    "If you clone the repository `alert_packet` this is the location of the alert.json file."
   ]
  },
  {
   "cell_type": "code",
   "execution_count": 5,
   "metadata": {},
   "outputs": [],
   "source": [
    "path = Path('../../alert_packet/python/lsst/alert/packet/schema/4/0/sample_data/')\n",
    "with open(path/'alert.json') as f:\n",
    "    alert_data = json.load(f)"
   ]
  },
  {
   "cell_type": "code",
   "execution_count": 6,
   "metadata": {},
   "outputs": [
    {
     "data": {
      "text/plain": [
       "{'alertId': 1231321321,\n",
       " 'l1dbId': 222222222,\n",
       " 'diaSource': {'diaSourceId': 281323062375219200,\n",
       "  'ccdVisitId': 111111,\n",
       "  'midPointTai': 1480360995,\n",
       "  'filterName': 'r',\n",
       "  'programId': 1,\n",
       "  'ra': 351.570546978,\n",
       "  'decl': 0.126243049656,\n",
       "  'raSigma': 0.00028,\n",
       "  'declSigma': 0.00028,\n",
       "  'ra_decl_Cov': 0.00029,\n",
       "  'x': 112.1,\n",
       "  'y': 121.1,\n",
       "  'xSigma': 1.2,\n",
       "  'ySigma': 1.1,\n",
       "  'x_y_Cov': 1.2,\n",
       "  'apFlux': 1241.0,\n",
       "  'apFluxErr': 12.0,\n",
       "  'snr': 41.1,\n",
       "  'psFlux': 1241.0,\n",
       "  'psFluxErr': 12.0,\n",
       "  'flags': 0},\n",
       " 'prvDiaSources': [{'diaSourceId': 281323062375219198,\n",
       "   'ccdVisitId': 111111,\n",
       "   'midPointTai': 1480360995,\n",
       "   'filterName': 'r',\n",
       "   'programId': 1,\n",
       "   'ra': 351.570546978,\n",
       "   'decl': 0.126243049656,\n",
       "   'raSigma': 0.00028,\n",
       "   'declSigma': 0.00028,\n",
       "   'ra_decl_Cov': 0.00029,\n",
       "   'x': 112.1,\n",
       "   'y': 121.1,\n",
       "   'xSigma': 1.2,\n",
       "   'ySigma': 1.1,\n",
       "   'x_y_Cov': 1.2,\n",
       "   'apFlux': 1241.0,\n",
       "   'apFluxErr': 12.0,\n",
       "   'snr': 41.1,\n",
       "   'psFlux': 1241.0,\n",
       "   'psFluxErr': 12.0,\n",
       "   'flags': 0},\n",
       "  {'diaSourceId': 281323062375219199,\n",
       "   'ccdVisitId': 111111,\n",
       "   'midPointTai': 1480360995,\n",
       "   'filterName': 'r',\n",
       "   'programId': 1,\n",
       "   'ra': 351.570546978,\n",
       "   'decl': 0.126243049656,\n",
       "   'raSigma': 0.00028,\n",
       "   'declSigma': 0.00028,\n",
       "   'ra_decl_Cov': 0.00029,\n",
       "   'x': 112.1,\n",
       "   'y': 121.1,\n",
       "   'xSigma': 1.2,\n",
       "   'ySigma': 1.1,\n",
       "   'x_y_Cov': 1.2,\n",
       "   'apFlux': 1241.0,\n",
       "   'apFluxErr': 12.0,\n",
       "   'snr': 41.1,\n",
       "   'psFlux': 1241.0,\n",
       "   'psFluxErr': 12.0,\n",
       "   'flags': 0}],\n",
       " 'diaObject': {'diaObjectId': 281323062375219201,\n",
       "  'ra': 351.570546978,\n",
       "  'decl': 0.126243049656,\n",
       "  'raSigma': 0.00028,\n",
       "  'declSigma': 0.00028,\n",
       "  'ra_decl_Cov': 0.00029,\n",
       "  'radecTai': 1480360995,\n",
       "  'pmRa': 0.00013,\n",
       "  'pmDecl': 0.00014,\n",
       "  'parallax': 2.124124,\n",
       "  'pmRaSigma': 0.00013,\n",
       "  'pmDeclSigma': 0.00013,\n",
       "  'parallaxSigma': 0.00013,\n",
       "  'pmRa_pmDecl_Cov': 0.00013,\n",
       "  'pmRa_parallax_Cov': 0.00013,\n",
       "  'pmDecl_parallax_Cov': 0.00013,\n",
       "  'pmParallaxLnL': 0.00013,\n",
       "  'pmParallaxChi2': 0.00013,\n",
       "  'pmParallaxNdata': 1214,\n",
       "  'flags': 0},\n",
       " 'ssObject': {'ssObjectId': 5364546, 'numObs': 10, 'flags': 0}}"
      ]
     },
     "execution_count": 6,
     "metadata": {},
     "output_type": "execute_result"
    }
   ],
   "source": [
    "alert_data"
   ]
  },
  {
   "cell_type": "markdown",
   "metadata": {},
   "source": [
    "## What does the data corresponding to a diasrc look like? "
   ]
  },
  {
   "cell_type": "markdown",
   "metadata": {},
   "source": [
    "This is just a dictionary: You can write some code to read the data from SNANA and write it to the values of the correct keys"
   ]
  },
  {
   "cell_type": "code",
   "execution_count": 7,
   "metadata": {},
   "outputs": [],
   "source": [
    "diasrc = alert_data['prvDiaSources'][0]"
   ]
  },
  {
   "cell_type": "code",
   "execution_count": 8,
   "metadata": {},
   "outputs": [],
   "source": [
    "from copy import copy"
   ]
  },
  {
   "cell_type": "markdown",
   "metadata": {},
   "source": [
    "Example:"
   ]
  },
  {
   "cell_type": "code",
   "execution_count": 9,
   "metadata": {},
   "outputs": [],
   "source": [
    "my_diasrc = copy(diasrc)"
   ]
  },
  {
   "cell_type": "code",
   "execution_count": 10,
   "metadata": {},
   "outputs": [],
   "source": [
    "my_diasrc['psFlux'] = 1531.2\n",
    "my_diasrc['snr'] = my_diasrc['psFlux']/my_diasrc['psFluxErr']# Not sure this is correct !"
   ]
  },
  {
   "cell_type": "code",
   "execution_count": 11,
   "metadata": {},
   "outputs": [
    {
     "name": "stdout",
     "output_type": "stream",
     "text": [
      "{'diaSourceId': 281323062375219198, 'ccdVisitId': 111111, 'midPointTai': 1480360995, 'filterName': 'r', 'programId': 1, 'ra': 351.570546978, 'decl': 0.126243049656, 'raSigma': 0.00028, 'declSigma': 0.00028, 'ra_decl_Cov': 0.00029, 'x': 112.1, 'y': 121.1, 'xSigma': 1.2, 'ySigma': 1.1, 'x_y_Cov': 1.2, 'apFlux': 1241.0, 'apFluxErr': 12.0, 'snr': 41.1, 'psFlux': 1241.0, 'psFluxErr': 12.0, 'flags': 0}\n"
     ]
    }
   ],
   "source": [
    "print(diasrc)"
   ]
  },
  {
   "cell_type": "code",
   "execution_count": 12,
   "metadata": {},
   "outputs": [
    {
     "name": "stdout",
     "output_type": "stream",
     "text": [
      "{'diaSourceId': 281323062375219198, 'ccdVisitId': 111111, 'midPointTai': 1480360995, 'filterName': 'r', 'programId': 1, 'ra': 351.570546978, 'decl': 0.126243049656, 'raSigma': 0.00028, 'declSigma': 0.00028, 'ra_decl_Cov': 0.00029, 'x': 112.1, 'y': 121.1, 'xSigma': 1.2, 'ySigma': 1.1, 'x_y_Cov': 1.2, 'apFlux': 1241.0, 'apFluxErr': 12.0, 'snr': 127.60000000000001, 'psFlux': 1531.2, 'psFluxErr': 12.0, 'flags': 0}\n"
     ]
    }
   ],
   "source": [
    "print(my_diasrc)"
   ]
  },
  {
   "cell_type": "markdown",
   "metadata": {},
   "source": [
    "## Converting to efficient avro format"
   ]
  },
  {
   "cell_type": "markdown",
   "metadata": {},
   "source": [
    "Now with the entire `alert_data` file, we have"
   ]
  },
  {
   "cell_type": "code",
   "execution_count": 13,
   "metadata": {},
   "outputs": [],
   "source": [
    "avro_bytes = schema.serialize(alert_data)"
   ]
  },
  {
   "cell_type": "code",
   "execution_count": 14,
   "metadata": {},
   "outputs": [],
   "source": [
    "messg = schema.deserialize(avro_bytes)"
   ]
  }
 ],
 "metadata": {
  "kernelspec": {
   "display_name": "Python 3",
   "language": "python",
   "name": "python3"
  },
  "language_info": {
   "codemirror_mode": {
    "name": "ipython",
    "version": 3
   },
   "file_extension": ".py",
   "mimetype": "text/x-python",
   "name": "python",
   "nbconvert_exporter": "python",
   "pygments_lexer": "ipython3",
   "version": "3.7.1"
  }
 },
 "nbformat": 4,
 "nbformat_minor": 4
}
