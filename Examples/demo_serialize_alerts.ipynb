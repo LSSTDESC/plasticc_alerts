{
 "cells": [
  {
   "cell_type": "markdown",
   "metadata": {},
   "source": [
    "This is a demo of how we can add catalog simulations to LSST alerts in avro forma, which the Rubin project is using. "
   ]
  },
  {
   "cell_type": "markdown",
   "metadata": {},
   "source": [
    "Follow the README of this repository and then the README of `alert_packet` for setup. This involves installing `alert_packet` in some way."
   ]
  },
  {
   "cell_type": "markdown",
   "metadata": {},
   "source": [
    "This notebook is based on the examples and codes in `alert_packet` :https://github.com/lsst/alert_packet"
   ]
  },
  {
   "cell_type": "code",
   "execution_count": 2,
   "metadata": {},
   "outputs": [],
   "source": [
    "import lsst.alert.packet"
   ]
  },
  {
   "cell_type": "code",
   "execution_count": 3,
   "metadata": {},
   "outputs": [],
   "source": [
    "from pathlib import Path\n",
    "import matplotlib.pyplot as plt"
   ]
  },
  {
   "cell_type": "code",
   "execution_count": 4,
   "metadata": {},
   "outputs": [],
   "source": [
    "import json\n",
    "import pandas as pd\n",
    "from astropy.io import fits\n",
    "import numpy as np\n",
    "from astropy.time import Time"
   ]
  },
  {
   "cell_type": "code",
   "execution_count": 5,
   "metadata": {},
   "outputs": [],
   "source": [
    "schema = lsst.alert.packet.Schema.from_file()"
   ]
  },
  {
   "cell_type": "markdown",
   "metadata": {},
   "source": [
    "If you clone the repository `alert_packet` this is the location of the alert.json file."
   ]
  },
  {
   "cell_type": "code",
   "execution_count": 7,
   "metadata": {},
   "outputs": [],
   "source": [
    "path = Path('../../alert_packet/python/lsst/alert/packet/schema/4/0/sample_data/')\n",
    "with open(path/'alert.json') as f:\n",
    "    alert_data = json.load(f)"
   ]
  },
  {
   "cell_type": "code",
   "execution_count": 8,
   "metadata": {},
   "outputs": [
    {
     "data": {
      "text/plain": [
       "{'diaSourceId': 281323062375219200,\n",
       " 'ccdVisitId': 111111,\n",
       " 'midPointTai': 1480360995,\n",
       " 'filterName': 'r',\n",
       " 'programId': 1,\n",
       " 'ra': 351.570546978,\n",
       " 'decl': 0.126243049656,\n",
       " 'raSigma': 0.00028,\n",
       " 'declSigma': 0.00028,\n",
       " 'ra_decl_Cov': 0.00029,\n",
       " 'x': 112.1,\n",
       " 'y': 121.1,\n",
       " 'xSigma': 1.2,\n",
       " 'ySigma': 1.1,\n",
       " 'x_y_Cov': 1.2,\n",
       " 'apFlux': 1241.0,\n",
       " 'apFluxErr': 12.0,\n",
       " 'snr': 41.1,\n",
       " 'psFlux': 1241.0,\n",
       " 'psFluxErr': 12.0,\n",
       " 'flags': 0}"
      ]
     },
     "execution_count": 8,
     "metadata": {},
     "output_type": "execute_result"
    }
   ],
   "source": [
    "alert_data['diaSource']"
   ]
  },
  {
   "cell_type": "code",
   "execution_count": 9,
   "metadata": {},
   "outputs": [
    {
     "data": {
      "text/plain": [
       "[{'diaSourceId': 281323062375219198,\n",
       "  'ccdVisitId': 111111,\n",
       "  'midPointTai': 1480360995,\n",
       "  'filterName': 'r',\n",
       "  'programId': 1,\n",
       "  'ra': 351.570546978,\n",
       "  'decl': 0.126243049656,\n",
       "  'raSigma': 0.00028,\n",
       "  'declSigma': 0.00028,\n",
       "  'ra_decl_Cov': 0.00029,\n",
       "  'x': 112.1,\n",
       "  'y': 121.1,\n",
       "  'xSigma': 1.2,\n",
       "  'ySigma': 1.1,\n",
       "  'x_y_Cov': 1.2,\n",
       "  'apFlux': 1241.0,\n",
       "  'apFluxErr': 12.0,\n",
       "  'snr': 41.1,\n",
       "  'psFlux': 1241.0,\n",
       "  'psFluxErr': 12.0,\n",
       "  'flags': 0},\n",
       " {'diaSourceId': 281323062375219199,\n",
       "  'ccdVisitId': 111111,\n",
       "  'midPointTai': 1480360995,\n",
       "  'filterName': 'r',\n",
       "  'programId': 1,\n",
       "  'ra': 351.570546978,\n",
       "  'decl': 0.126243049656,\n",
       "  'raSigma': 0.00028,\n",
       "  'declSigma': 0.00028,\n",
       "  'ra_decl_Cov': 0.00029,\n",
       "  'x': 112.1,\n",
       "  'y': 121.1,\n",
       "  'xSigma': 1.2,\n",
       "  'ySigma': 1.1,\n",
       "  'x_y_Cov': 1.2,\n",
       "  'apFlux': 1241.0,\n",
       "  'apFluxErr': 12.0,\n",
       "  'snr': 41.1,\n",
       "  'psFlux': 1241.0,\n",
       "  'psFluxErr': 12.0,\n",
       "  'flags': 0}]"
      ]
     },
     "execution_count": 9,
     "metadata": {},
     "output_type": "execute_result"
    }
   ],
   "source": [
    "alert_data['prvDiaSources']"
   ]
  },
  {
   "cell_type": "markdown",
   "metadata": {},
   "source": [
    "## What does the data corresponding to a diasrc look like? "
   ]
  },
  {
   "cell_type": "markdown",
   "metadata": {},
   "source": [
    "This is just a dictionary: You can write some code to read the data from SNANA and write it to the values of the correct keys"
   ]
  },
  {
   "cell_type": "code",
   "execution_count": 10,
   "metadata": {},
   "outputs": [],
   "source": [
    "diasrc = alert_data['prvDiaSources'][0]"
   ]
  },
  {
   "cell_type": "code",
   "execution_count": 11,
   "metadata": {},
   "outputs": [],
   "source": [
    "from copy import copy"
   ]
  },
  {
   "cell_type": "markdown",
   "metadata": {},
   "source": [
    "## Taking an SNANA file and porting information to alert\n",
    "Example:"
   ]
  },
  {
   "cell_type": "code",
   "execution_count": 140,
   "metadata": {},
   "outputs": [],
   "source": [
    "simdir='../hostSims'\n",
    "#list = ['MODEL42_SNIIn','MODEL67_SNIa-91bg']\n",
    "#modelname = ['GSN_LSST_DDF_%s'%i for i in list]\n",
    "modelname = ['AGAGLIAN_ZTF_NONIaMODEL0']"
   ]
  },
  {
   "cell_type": "code",
   "execution_count": 141,
   "metadata": {},
   "outputs": [
    {
     "name": "stdout",
     "output_type": "stream",
     "text": [
      "ColDefs(\n",
      "    name = 'MJD'; format = '1D'\n",
      "    name = 'FLT'; format = '2A'\n",
      "    name = 'FIELD'; format = '12A'\n",
      "    name = 'PHOTFLAG'; format = '1J'\n",
      "    name = 'PHOTPROB'; format = '1E'\n",
      "    name = 'FLUXCAL'; format = '1E'\n",
      "    name = 'FLUXCALERR'; format = '1E'\n",
      "    name = 'PSF_SIG1'; format = '1E'\n",
      "    name = 'SKY_SIG'; format = '1E'\n",
      "    name = 'ZEROPT'; format = '1E'\n",
      "    name = 'SIM_MAGOBS'; format = '1E'\n",
      ")\n"
     ]
    },
    {
     "data": {
      "image/png": "[encoded data removed]",
      "text/plain": [
       "<Figure size 432x288 with 1 Axes>"
      ]
     },
     "metadata": {
      "needs_background": "light"
     },
     "output_type": "display_data"
    }
   ],
   "source": [
    "for name in modelname:\n",
    "    name_head=simdir+'/'+'%s-0001_HEAD.FITS.gz'%name\n",
    "    name_phot=simdir+'/'+'%s-0001_PHOT.FITS.gz'%name\n",
    "    head = fits.open(name_head)\n",
    "    #print(head[1].data)\n",
    "    phot = fits.open(name_phot)\n",
    "    #print(phot[1].data)\n",
    "    phot_cols=phot[1].columns\n",
    "    print(phot_cols)\n",
    "\n",
    "    mjd = phot[1].data['MJD']\n",
    "    mag = phot[1].data['SIM_MAGOBS']\n",
    "    \n",
    "    plt.plot(mjd, mag,'.', color='b', ms=0.5)\n",
    "#    plt.axis([59582.3282,59582.3282+399, 0,60])\n",
    "    plt.xlim((61000, 63000))\n",
    "    plt.ylim((40, 15))\n",
    "#     print(mjd)\n",
    "    bound = np.where(mjd==60762.3919)[0][0]\n",
    "    filt = phot[1].data['FLT'][0:bound]\n",
    "    mag = phot[1].data['SIM_MAGOBS'][0:bound]\n",
    "    ginds = np.where(phot[1].data['FLT'][0:bound]=='g')\n",
    "    zinds = np.where(phot[1].data['FLT'][0:bound]=='z')\n",
    "    \n",
    "    # properties of the host galaxy\n",
    "    logmass = head[1].data['SIM_HOSTLIB(LOGMASS_OBS)'][0:bound]\n",
    "    sfr = head[1].data['SIM_HOSTLIB(STAR_FORMATION_RATE)'][0:bound]\n",
    "    ellipticity = head[1].data['SIM_HOSTLIB(TOTAL_ELLIPTICITY)'][0:bound]\n",
    "    size = head[1].data['SIM_HOSTLIB(SIZE_TRUE)'][0:bound]\n",
    "    host_z = head[1].data['HOSTGAL_SPECZ'][0:bound]\n",
    "\n",
    "    fluxcal =  phot[1].data['FLUXCAL'][0:bound]\n",
    "    fluxcalerr =  phot[1].data['FLUXCALERR'][0:bound]\n",
    "    snr = fluxcal/fluxcalerr\n",
    "    mjd=mjd[0:bound]"
   ]
  },
  {
   "cell_type": "code",
   "execution_count": 142,
   "metadata": {},
   "outputs": [
    {
     "name": "stdout",
     "output_type": "stream",
     "text": [
      "(array([ 3, 12, 24, 34, 57, 60, 69, 76, 81]),)\n"
     ]
    },
    {
     "data": {
      "image/png": "[encoded data removed]",
      "text/plain": [
       "<Figure size 432x288 with 1 Axes>"
      ]
     },
     "metadata": {
      "needs_background": "light"
     },
     "output_type": "display_data"
    }
   ],
   "source": [
    "plt.plot(mjd[ginds], mag[ginds],'.', color='b')\n",
    "print(ginds)\n",
    "path = Path('../../alert_packet/python/lsst/alert/packet/schema/4/0/sample_data/')\n",
    "with open(path/'alert.json') as f:\n",
    "    alert_data_orig = json.load(f)\n",
    "alert = copy(alert_data_orig)"
   ]
  },
  {
   "cell_type": "markdown",
   "metadata": {},
   "source": [
    "Copying over the original schema to a 'blank' alert"
   ]
  },
  {
   "cell_type": "code",
   "execution_count": 143,
   "metadata": {},
   "outputs": [
    {
     "name": "stdout",
     "output_type": "stream",
     "text": [
      "[{'diaSourceId': 281323062375219198, 'ccdVisitId': 111111, 'midPointTai': 1480360995, 'filterName': 'r', 'programId': 1, 'ra': 351.570546978, 'decl': 0.126243049656, 'raSigma': 0.00028, 'declSigma': 0.00028, 'ra_decl_Cov': 0.00029, 'x': 112.1, 'y': 121.1, 'xSigma': 1.2, 'ySigma': 1.1, 'x_y_Cov': 1.2, 'apFlux': 1241.0, 'apFluxErr': 12.0, 'snr': 41.1, 'psFlux': 1241.0, 'psFluxErr': 12.0, 'flags': 0}, {'diaSourceId': 281323062375219199, 'ccdVisitId': 111111, 'midPointTai': 1480360995, 'filterName': 'r', 'programId': 1, 'ra': 351.570546978, 'decl': 0.126243049656, 'raSigma': 0.00028, 'declSigma': 0.00028, 'ra_decl_Cov': 0.00029, 'x': 112.1, 'y': 121.1, 'xSigma': 1.2, 'ySigma': 1.1, 'x_y_Cov': 1.2, 'apFlux': 1241.0, 'apFluxErr': 12.0, 'snr': 41.1, 'psFlux': 1241.0, 'psFluxErr': 12.0, 'flags': 0}]\n",
      "[]\n"
     ]
    }
   ],
   "source": [
    "diasrc = alert_data_orig['prvDiaSources'][0]\n",
    "my_diasrc = copy(diasrc)\n",
    "alert = copy(alert_data_orig)\n",
    "print(alert['prvDiaSources'])\n",
    "alert['prvDiaSources'].clear()\n",
    "print(alert['prvDiaSources'])\n"
   ]
  },
  {
   "cell_type": "code",
   "execution_count": 151,
   "metadata": {},
   "outputs": [
    {
     "name": "stdout",
     "output_type": "stream",
     "text": [
      "Starting alert copying from SNANA sims...\n",
      "====\n",
      "Copy Complete!\n"
     ]
    }
   ],
   "source": [
    "my_diasrc['diaSourceId'] = 281323062375219198\n",
    "my_diasrc['midPointTai'] = mjd[0]\n",
    "my_diasrc['filterName'] = filt[0]\n",
    "my_diasrc['snr'] = snr[0]\n",
    "my_diasrc['apFlux'] = fluxcal[0]\n",
    "my_diasrc['apFluxErr'] = fluxcalerr[0]\n",
    "alert['diaSource'] = my_diasrc\n",
    "\n",
    "#properties of the host galaxy\n",
    "my_diasrc['host_logmass'] = logmass[0]\n",
    "my_diasrc['host_sfr'] = sfr[0]\n",
    "my_diasrc['host_ellipticity'] = ellipticity[0]\n",
    "my_diasrc['host_size'] = size[0]\n",
    "my_diasrc['host_truez'] = host_z[0]\n",
    "\n",
    "print('Starting alert copying from SNANA sims...')\n",
    "for count, i in enumerate(ginds[0]):\n",
    "    #print(count,i)\n",
    "    my_diasrc = copy(diasrc)\n",
    "    my_diasrc['diaSourceId'] = my_diasrc['diaSourceId']+count+1\n",
    "    my_diasrc['midPointTai'] = mjd[i]\n",
    "    my_diasrc['filterName'] = filt[i]\n",
    "    my_diasrc['snr'] = snr[i]\n",
    "    my_diasrc['apFlux'] = fluxcal[i]\n",
    "    my_diasrc['apFluxErr'] = fluxcalerr[i]\n",
    "  \n",
    "    #properties of the host galaxy\n",
    "    my_diasrc['host_logmass'] = logmass[i]\n",
    "    my_diasrc['host_sfr'] = sfr[i]\n",
    "    my_diasrc['host_ellipticity'] = ellipticity[i]\n",
    "    my_diasrc['host_size'] = size[i]\n",
    "    my_diasrc['host_truez'] = host_z[i]\n",
    "\n",
    "    alert['prvDiaSources'].append(alert['diaSource'])\n",
    "    #print(alert['prvDiaSources'])\n",
    "    #print('*******')\n",
    "    alert['diaSource'] = my_diasrc\n",
    "    #print(alert['diaSource'])\n",
    "\n",
    "print('====')\n",
    "print(\"Copy Complete!\")\n",
    "#alert['prvDiaSources']"
   ]
  },
  {
   "cell_type": "code",
   "execution_count": 152,
   "metadata": {},
   "outputs": [
    {
     "data": {
      "text/plain": [
       "{'diaSourceId': 281323062375219207,\n",
       " 'ccdVisitId': 111111,\n",
       " 'midPointTai': 60610.0671,\n",
       " 'filterName': 'g',\n",
       " 'programId': 1,\n",
       " 'ra': 351.570546978,\n",
       " 'decl': 0.126243049656,\n",
       " 'raSigma': 0.00028,\n",
       " 'declSigma': 0.00028,\n",
       " 'ra_decl_Cov': 0.00029,\n",
       " 'x': 112.1,\n",
       " 'y': 121.1,\n",
       " 'xSigma': 1.2,\n",
       " 'ySigma': 1.1,\n",
       " 'x_y_Cov': 1.2,\n",
       " 'apFlux': -0.8682387,\n",
       " 'apFluxErr': 2.345623,\n",
       " 'snr': -0.3701527,\n",
       " 'psFlux': 1241.0,\n",
       " 'psFluxErr': 12.0,\n",
       " 'flags': 0,\n",
       " 'host_logmass': 10.762136,\n",
       " 'host_sfr': 78230160.0,\n",
       " 'host_ellipticity': 0.1487106,\n",
       " 'host_size': 0.913364,\n",
       " 'host_truez': 0.45275345}"
      ]
     },
     "execution_count": 152,
     "metadata": {},
     "output_type": "execute_result"
    }
   ],
   "source": [
    "alert['diaSource']"
   ]
  },
  {
   "cell_type": "markdown",
   "metadata": {},
   "source": [
    "## Converting to efficient avro format\n",
    "Now with the entire `alert_data` file, we have"
   ]
  },
  {
   "cell_type": "code",
   "execution_count": 147,
   "metadata": {},
   "outputs": [],
   "source": [
    "avro_bytes = schema.serialize(alert)\n",
    "messg = schema.deserialize(avro_bytes)\n",
    "iterNum=0\n",
    "with open(\"plasticcAlert_%s_%i.avro\"%(modelname[0],iterNum), \"wb\") as f:\n",
    "    schema.store_alerts(f, [alert])"
   ]
  },
  {
   "cell_type": "markdown",
   "metadata": {},
   "source": [
    "## Plot from the schema\n",
    "Taken from the ztf code https://github.com/ZwickyTransientFacility/ztf-avro-alert/blob/master/notebooks/Working_with_avro_files.ipynb"
   ]
  },
  {
   "cell_type": "code",
   "execution_count": 148,
   "metadata": {},
   "outputs": [],
   "source": [
    "def make_dataframe(packet):\n",
    "    df = pd.DataFrame(packet['diaSource'], index=[0])\n",
    "    df_prv = pd.DataFrame(packet['prvDiaSources'])\n",
    "    return pd.concat([df,df_prv], ignore_index=True)\n",
    "\n",
    "def plot_lightcurve(dflc, days_ago=True):\n",
    "    \n",
    "    filter_color = {'g':'green', 'r':'red', 'u':'pink'}\n",
    "    if days_ago:\n",
    "        now = Time.now().jd\n",
    "        t = dflc.midPointTai - now\n",
    "        xlabel = 'Days Ago'\n",
    "    else:\n",
    "        t = dflc.midPointTai\n",
    "        xlabel = 'Time (JD)'\n",
    "    \n",
    "    plt.figure()\n",
    "    for fid, color in filter_color.items():\n",
    "        # plot detections in this filter:\n",
    "        w = (dflc.filterName == fid) & ~dflc.psFlux.isnull()\n",
    "        if np.sum(w):\n",
    "            plt.errorbar(t[w],dflc.loc[w,'apFlux'], dflc.loc[w,'apFluxErr'],fmt='.',color=color)\n",
    "        #wnodet = (dflc.fid == fid) & dflc.magpsf.isnull()\n",
    "        #if np.sum(wnodet):\n",
    "         #   plt.scatter(t[wnodet],dflc.loc[wnodet,'diffmaglim'], marker='v',color=color,alpha=0.25)\n",
    "    \n",
    "    plt.gca().invert_yaxis()\n",
    "    plt.xlabel(xlabel)\n",
    "    plt.ylabel('Magnitude')"
   ]
  },
  {
   "cell_type": "code",
   "execution_count": 149,
   "metadata": {},
   "outputs": [],
   "source": [
    "dflc = make_dataframe(alert)\n",
    "#dflc"
   ]
  },
  {
   "cell_type": "code",
   "execution_count": 150,
   "metadata": {},
   "outputs": [
    {
     "data": {
      "image/png": "[encoded data removed]",
      "text/plain": [
       "<Figure size 432x288 with 1 Axes>"
      ]
     },
     "metadata": {
      "needs_background": "light"
     },
     "output_type": "display_data"
    }
   ],
   "source": [
    "plot_lightcurve(dflc)"
   ]
  }
 ],
 "metadata": {
  "kernelspec": {
   "display_name": "Python 3",
   "language": "python",
   "name": "python3"
  },
  "language_info": {
   "codemirror_mode": {
    "name": "ipython",
    "version": 3
   },
   "file_extension": ".py",
   "mimetype": "text/x-python",
   "name": "python",
   "nbconvert_exporter": "python",
   "pygments_lexer": "ipython3",
   "version": "3.7.6"
  }
 },
 "nbformat": 4,
 "nbformat_minor": 4
}
