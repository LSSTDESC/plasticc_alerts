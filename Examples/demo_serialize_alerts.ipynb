{
 "cells": [
  {
   "cell_type": "markdown",
   "metadata": {},
   "source": [
    "This is a demo of how we can add catalog simulations to LSST alerts in avro forma, which the Rubin project is using. "
   ]
  },
  {
   "cell_type": "markdown",
   "metadata": {},
   "source": [
    "Follow the README of this repository and then the README of `alert_packet` for setup. This involves installing `alert_packet` in some way."
   ]
  },
  {
   "cell_type": "markdown",
   "metadata": {},
   "source": [
    "This notebook is based on the examples and codes in `alert_packet` :https://github.com/lsst/alert_packet"
   ]
  },
  {
   "cell_type": "code",
   "execution_count": 1,
   "metadata": {},
   "outputs": [],
   "source": [
    "import lsst.alert.packet"
   ]
  },
  {
   "cell_type": "code",
   "execution_count": 2,
   "metadata": {},
   "outputs": [],
   "source": [
    "from pathlib import Path\n",
    "import matplotlib.pyplot as plt"
   ]
  },
  {
   "cell_type": "code",
   "execution_count": 3,
   "metadata": {},
   "outputs": [],
   "source": [
    "import json\n",
    "import pandas as pd\n",
    "from astropy.io import fits\n",
    "import numpy as np\n",
    "from astropy.time import Time"
   ]
  },
  {
   "cell_type": "code",
   "execution_count": 4,
   "metadata": {},
   "outputs": [],
   "source": [
    "schema = lsst.alert.packet.Schema.from_file()"
   ]
  },
  {
   "cell_type": "markdown",
   "metadata": {},
   "source": [
    "If you clone the repository `alert_packet` this is the location of the alert.json file."
   ]
  },
  {
   "cell_type": "code",
   "execution_count": 5,
   "metadata": {},
   "outputs": [],
   "source": [
    "path = Path('../../alert_packet/python/lsst/alert/packet/schema/4/0/sample_data/')\n",
    "with open(path/'alert.json') as f:\n",
    "    alert_data = json.load(f)"
   ]
  },
  {
   "cell_type": "code",
   "execution_count": 6,
   "metadata": {},
   "outputs": [
    {
     "data": {
      "text/plain": [
       "{'diaSourceId': 281323062375219200,\n",
       " 'ccdVisitId': 111111,\n",
       " 'midPointTai': 1480360995,\n",
       " 'filterName': 'r',\n",
       " 'programId': 1,\n",
       " 'ra': 351.570546978,\n",
       " 'decl': 0.126243049656,\n",
       " 'raSigma': 0.00028,\n",
       " 'declSigma': 0.00028,\n",
       " 'ra_decl_Cov': 0.00029,\n",
       " 'x': 112.1,\n",
       " 'y': 121.1,\n",
       " 'xSigma': 1.2,\n",
       " 'ySigma': 1.1,\n",
       " 'x_y_Cov': 1.2,\n",
       " 'apFlux': 1241.0,\n",
       " 'apFluxErr': 12.0,\n",
       " 'snr': 41.1,\n",
       " 'psFlux': 1241.0,\n",
       " 'psFluxErr': 12.0,\n",
       " 'flags': 0}"
      ]
     },
     "execution_count": 6,
     "metadata": {},
     "output_type": "execute_result"
    }
   ],
   "source": [
    "alert_data['diaSource']"
   ]
  },
  {
   "cell_type": "code",
   "execution_count": 7,
   "metadata": {},
   "outputs": [
    {
     "data": {
      "text/plain": [
       "[{'diaSourceId': 281323062375219198,\n",
       "  'ccdVisitId': 111111,\n",
       "  'midPointTai': 1480360995,\n",
       "  'filterName': 'r',\n",
       "  'programId': 1,\n",
       "  'ra': 351.570546978,\n",
       "  'decl': 0.126243049656,\n",
       "  'raSigma': 0.00028,\n",
       "  'declSigma': 0.00028,\n",
       "  'ra_decl_Cov': 0.00029,\n",
       "  'x': 112.1,\n",
       "  'y': 121.1,\n",
       "  'xSigma': 1.2,\n",
       "  'ySigma': 1.1,\n",
       "  'x_y_Cov': 1.2,\n",
       "  'apFlux': 1241.0,\n",
       "  'apFluxErr': 12.0,\n",
       "  'snr': 41.1,\n",
       "  'psFlux': 1241.0,\n",
       "  'psFluxErr': 12.0,\n",
       "  'flags': 0},\n",
       " {'diaSourceId': 281323062375219199,\n",
       "  'ccdVisitId': 111111,\n",
       "  'midPointTai': 1480360995,\n",
       "  'filterName': 'r',\n",
       "  'programId': 1,\n",
       "  'ra': 351.570546978,\n",
       "  'decl': 0.126243049656,\n",
       "  'raSigma': 0.00028,\n",
       "  'declSigma': 0.00028,\n",
       "  'ra_decl_Cov': 0.00029,\n",
       "  'x': 112.1,\n",
       "  'y': 121.1,\n",
       "  'xSigma': 1.2,\n",
       "  'ySigma': 1.1,\n",
       "  'x_y_Cov': 1.2,\n",
       "  'apFlux': 1241.0,\n",
       "  'apFluxErr': 12.0,\n",
       "  'snr': 41.1,\n",
       "  'psFlux': 1241.0,\n",
       "  'psFluxErr': 12.0,\n",
       "  'flags': 0}]"
      ]
     },
     "execution_count": 7,
     "metadata": {},
     "output_type": "execute_result"
    }
   ],
   "source": [
    "alert_data['prvDiaSources']"
   ]
  },
  {
   "cell_type": "markdown",
   "metadata": {},
   "source": [
    "## What does the data corresponding to a diasrc look like? "
   ]
  },
  {
   "cell_type": "markdown",
   "metadata": {},
   "source": [
    "This is just a dictionary: You can write some code to read the data from SNANA and write it to the values of the correct keys"
   ]
  },
  {
   "cell_type": "code",
   "execution_count": 8,
   "metadata": {},
   "outputs": [],
   "source": [
    "diasrc = alert_data['prvDiaSources'][0]"
   ]
  },
  {
   "cell_type": "code",
   "execution_count": 9,
   "metadata": {},
   "outputs": [],
   "source": [
    "from copy import copy"
   ]
  },
  {
   "cell_type": "markdown",
   "metadata": {},
   "source": [
    "## Taking an SNANA file and porting information to alert\n",
    "Example:"
   ]
  },
  {
   "cell_type": "code",
   "execution_count": 42,
   "metadata": {},
   "outputs": [
    {
     "name": "stdout",
     "output_type": "stream",
     "text": [
      "['GSN_LSST_DDF_MODEL42_SNIIn', 'GSN_LSST_DDF_MODEL67_SNIa-91bg']\n"
     ]
    },
    {
     "ename": "TypeError",
     "evalue": "can only concatenate str (not \"list\") to str",
     "output_type": "error",
     "traceback": [
      "\u001b[0;31m---------------------------------------------------------------------------\u001b[0m",
      "\u001b[0;31mTypeError\u001b[0m                                 Traceback (most recent call last)",
      "\u001b[0;32m<ipython-input-42-742a35ba2713>\u001b[0m in \u001b[0;36m<module>\u001b[0;34m\u001b[0m\n\u001b[1;32m      3\u001b[0m \u001b[0mmodelname\u001b[0m \u001b[0;34m=\u001b[0m \u001b[0;34m[\u001b[0m\u001b[0;34m'GSN_LSST_DDF_%s'\u001b[0m\u001b[0;34m%\u001b[0m\u001b[0mi\u001b[0m \u001b[0;32mfor\u001b[0m \u001b[0mi\u001b[0m \u001b[0;32min\u001b[0m \u001b[0mlist\u001b[0m\u001b[0;34m]\u001b[0m\u001b[0;34m\u001b[0m\u001b[0;34m\u001b[0m\u001b[0m\n\u001b[1;32m      4\u001b[0m \u001b[0mprint\u001b[0m\u001b[0;34m(\u001b[0m\u001b[0mmodelname\u001b[0m\u001b[0;34m)\u001b[0m\u001b[0;34m\u001b[0m\u001b[0;34m\u001b[0m\u001b[0m\n\u001b[0;32m----> 5\u001b[0;31m \u001b[0mname_head\u001b[0m\u001b[0;34m=\u001b[0m\u001b[0msimdir\u001b[0m\u001b[0;34m+\u001b[0m\u001b[0mmodelname\u001b[0m\u001b[0;34m+\u001b[0m\u001b[0;34m'/'\u001b[0m\u001b[0;34m+\u001b[0m\u001b[0;34m'GSN_LSST_DDF_NONIaMODEL0-0001_HEAD.FITS.gz'\u001b[0m\u001b[0;34m\u001b[0m\u001b[0;34m\u001b[0m\u001b[0m\n\u001b[0m\u001b[1;32m      6\u001b[0m \u001b[0;34m\u001b[0m\u001b[0m\n\u001b[1;32m      7\u001b[0m \u001b[0mname_phot\u001b[0m\u001b[0;34m=\u001b[0m\u001b[0msimdir\u001b[0m\u001b[0;34m+\u001b[0m\u001b[0mmodelname\u001b[0m\u001b[0;34m+\u001b[0m\u001b[0;34m'/'\u001b[0m\u001b[0;34m+\u001b[0m\u001b[0;34m'GSN_LSST_DDF_NONIaMODEL0-0001_PHOT.FITS.gz'\u001b[0m\u001b[0;34m\u001b[0m\u001b[0;34m\u001b[0m\u001b[0m\n",
      "\u001b[0;31mTypeError\u001b[0m: can only concatenate str (not \"list\") to str"
     ]
    }
   ],
   "source": [
    "simdir='/global/cscratch1/sd/kessler/SNANA_LSST_SIM/GSN_LSST_DDF/'\n",
    "list = ['MODEL42_SNIIn','MODEL67_SNIa-91bg']\n",
    "modelname = ['GSN_LSST_DDF_%s'%i for i in list]\n",
    "\n"
   ]
  },
  {
   "cell_type": "code",
   "execution_count": 45,
   "metadata": {},
   "outputs": [
    {
     "name": "stdout",
     "output_type": "stream",
     "text": [
      "ColDefs(\n",
      "    name = 'MJD'; format = '1D'\n",
      "    name = 'BAND'; format = '2A'\n",
      "    name = 'CCDNUM'; format = '1I'\n",
      "    name = 'FIELD'; format = '12A'\n",
      "    name = 'PHOTFLAG'; format = '1J'\n",
      "    name = 'PHOTPROB'; format = '1E'\n",
      "    name = 'FLUXCAL'; format = '1E'\n",
      "    name = 'FLUXCALERR'; format = '1E'\n",
      "    name = 'PSF_SIG1'; format = '1E'\n",
      "    name = 'PSF_SIG2'; format = '1E'\n",
      "    name = 'PSF_RATIO'; format = '1E'\n",
      "    name = 'SKY_SIG'; format = '1E'\n",
      "    name = 'SKY_SIG_T'; format = '1E'\n",
      "    name = 'RDNOISE'; format = '1E'\n",
      "    name = 'ZEROPT'; format = '1E'\n",
      "    name = 'ZEROPT_ERR'; format = '1E'\n",
      "    name = 'GAIN'; format = '1E'\n",
      "    name = 'SIM_MAGOBS'; format = '1E'\n",
      "    name = 'SIM_FLUXCAL_HOSTERR'; format = '1E'\n",
      ")\n",
      "ColDefs(\n",
      "    name = 'MJD'; format = '1D'\n",
      "    name = 'BAND'; format = '2A'\n",
      "    name = 'CCDNUM'; format = '1I'\n",
      "    name = 'FIELD'; format = '12A'\n",
      "    name = 'PHOTFLAG'; format = '1J'\n",
      "    name = 'PHOTPROB'; format = '1E'\n",
      "    name = 'FLUXCAL'; format = '1E'\n",
      "    name = 'FLUXCALERR'; format = '1E'\n",
      "    name = 'PSF_SIG1'; format = '1E'\n",
      "    name = 'PSF_SIG2'; format = '1E'\n",
      "    name = 'PSF_RATIO'; format = '1E'\n",
      "    name = 'SKY_SIG'; format = '1E'\n",
      "    name = 'SKY_SIG_T'; format = '1E'\n",
      "    name = 'RDNOISE'; format = '1E'\n",
      "    name = 'ZEROPT'; format = '1E'\n",
      "    name = 'ZEROPT_ERR'; format = '1E'\n",
      "    name = 'GAIN'; format = '1E'\n",
      "    name = 'SIM_MAGOBS'; format = '1E'\n",
      "    name = 'SIM_FLUXCAL_HOSTERR'; format = '1E'\n",
      ")\n"
     ]
    },
    {
     "data": {
      "image/png": "[encoded data removed]",
      "text/plain": [
       "<Figure size 432x288 with 1 Axes>"
      ]
     },
     "metadata": {
      "needs_background": "light"
     },
     "output_type": "display_data"
    }
   ],
   "source": [
    "for name in modelname:\n",
    "    name_head=simdir+name+'/'+'GSN_LSST_DDF_NONIaMODEL0-0001_HEAD.FITS.gz'\n",
    "\n",
    "    name_phot=simdir+name+'/'+'GSN_LSST_DDF_NONIaMODEL0-0001_PHOT.FITS.gz'\n",
    "    head = fits.open(name_head)\n",
    "    #print(head[1].data)\n",
    "    phot = fits.open(name_phot)\n",
    "    #print(phot[1].data)\n",
    "    phot_cols=phot[1].columns\n",
    "    print(phot_cols)\n",
    "\n",
    "    mjd = phot[1].data['MJD']\n",
    "    mag = phot[1].data['SIM_MAGOBS']\n",
    "    plt.plot(mjd, mag,'.', color='b')\n",
    "#     plt.axis([59582.3282,59582.3282+399, 0,60])\n",
    "#     print(mjd)\n",
    "    bound = np.where(mjd==-777)[0][0]\n",
    "    filt = phot[1].data['BAND'][0:bound]\n",
    "    mag = phot[1].data['SIM_MAGOBS'][0:bound]\n",
    "    ginds = np.where(phot[1].data['BAND'][0:bound]=='g')\n",
    "    zinds = np.where(phot[1].data['BAND'][0:bound]=='z')\n",
    "    fluxcal =  phot[1].data['FLUXCAL'][0:bound]\n",
    "    fluxcalerr =  phot[1].data['FLUXCALERR'][0:bound]\n",
    "    snr = fluxcal/fluxcalerr\n",
    "    mjd=mjd[0:bound]"
   ]
  },
  {
   "cell_type": "code",
   "execution_count": 19,
   "metadata": {},
   "outputs": [
    {
     "name": "stdout",
     "output_type": "stream",
     "text": [
      "(array([  6,  11,  16,  21,  26,  32,  37,  42,  47,  52,  58,  63,  68,\n",
      "        73,  81,  86,  91,  97, 102, 107, 112, 120, 125, 130, 138, 143,\n",
      "       148, 160, 165, 171, 176, 181, 186, 191, 196, 201, 206, 211, 219,\n",
      "       224, 229, 234, 239, 244, 249]),)\n"
     ]
    },
    {
     "data": {
      "image/png": "[encoded data removed]",
      "text/plain": [
       "<Figure size 432x288 with 1 Axes>"
      ]
     },
     "metadata": {
      "needs_background": "light"
     },
     "output_type": "display_data"
    }
   ],
   "source": [
    "plt.plot(mjd[ginds], mag[ginds],'.', color='b')\n",
    "print(ginds)\n",
    "path = Path('../../alert_packet/python/lsst/alert/packet/schema/4/0/sample_data/')\n",
    "with open(path/'alert.json') as f:\n",
    "    alert_data_orig = json.load(f)\n",
    "alert = copy(alert_data_orig)"
   ]
  },
  {
   "cell_type": "markdown",
   "metadata": {},
   "source": [
    "Copying over the original schema to a 'blank' alert"
   ]
  },
  {
   "cell_type": "code",
   "execution_count": 20,
   "metadata": {},
   "outputs": [
    {
     "name": "stdout",
     "output_type": "stream",
     "text": [
      "[{'diaSourceId': 281323062375219198, 'ccdVisitId': 111111, 'midPointTai': 1480360995, 'filterName': 'r', 'programId': 1, 'ra': 351.570546978, 'decl': 0.126243049656, 'raSigma': 0.00028, 'declSigma': 0.00028, 'ra_decl_Cov': 0.00029, 'x': 112.1, 'y': 121.1, 'xSigma': 1.2, 'ySigma': 1.1, 'x_y_Cov': 1.2, 'apFlux': 1241.0, 'apFluxErr': 12.0, 'snr': 41.1, 'psFlux': 1241.0, 'psFluxErr': 12.0, 'flags': 0}, {'diaSourceId': 281323062375219199, 'ccdVisitId': 111111, 'midPointTai': 1480360995, 'filterName': 'r', 'programId': 1, 'ra': 351.570546978, 'decl': 0.126243049656, 'raSigma': 0.00028, 'declSigma': 0.00028, 'ra_decl_Cov': 0.00029, 'x': 112.1, 'y': 121.1, 'xSigma': 1.2, 'ySigma': 1.1, 'x_y_Cov': 1.2, 'apFlux': 1241.0, 'apFluxErr': 12.0, 'snr': 41.1, 'psFlux': 1241.0, 'psFluxErr': 12.0, 'flags': 0}]\n",
      "[]\n"
     ]
    }
   ],
   "source": [
    "diasrc = alert_data_orig['prvDiaSources'][0]\n",
    "my_diasrc = copy(diasrc)\n",
    "alert = copy(alert_data_orig)\n",
    "print(alert['prvDiaSources'])\n",
    "alert['prvDiaSources'].clear()\n",
    "print(alert['prvDiaSources'])\n"
   ]
  },
  {
   "cell_type": "code",
   "execution_count": 33,
   "metadata": {},
   "outputs": [
    {
     "name": "stdout",
     "output_type": "stream",
     "text": [
      "-------\n",
      "====\n"
     ]
    }
   ],
   "source": [
    "my_diasrc['diaSourceId'] = 281323062375219198\n",
    "my_diasrc['midPointTai'] = mjd[0]\n",
    "my_diasrc['filterName'] = filt[0]\n",
    "my_diasrc['snr'] = snr[0]\n",
    "my_diasrc['apFlux'] = fluxcal[0]\n",
    "my_diasrc['apFluxErr'] = fluxcalerr[0]\n",
    "alert['diaSource'] = my_diasrc\n",
    "\n",
    "print('-------')\n",
    "for count, i in enumerate(ginds[0]):\n",
    "    #print(count,i)\n",
    "    my_diasrc = copy(diasrc)\n",
    "    my_diasrc['diaSourceId'] = my_diasrc['diaSourceId']+count+1\n",
    "    my_diasrc['midPointTai'] = mjd[i]\n",
    "    my_diasrc['filterName'] = filt[i]\n",
    "    my_diasrc['snr'] = snr[i]\n",
    "    my_diasrc['apFlux'] = fluxcal[i]\n",
    "    my_diasrc['apFluxErr'] = fluxcalerr[i]\n",
    "  \n",
    "    alert['prvDiaSources'].append(alert['diaSource'])\n",
    "    #print(alert['prvDiaSources'])\n",
    "    #print('*******')\n",
    "    alert['diaSource'] = my_diasrc\n",
    "    #print(alert['diaSource'])\n",
    "    \n",
    "print('====')   \n",
    "#alert['prvDiaSources']"
   ]
  },
  {
   "cell_type": "code",
   "execution_count": 34,
   "metadata": {},
   "outputs": [
    {
     "data": {
      "text/plain": [
       "{'diaSourceId': 281323062375219243,\n",
       " 'ccdVisitId': 111111,\n",
       " 'midPointTai': 60433.9929,\n",
       " 'filterName': 'g',\n",
       " 'programId': 1,\n",
       " 'ra': 351.570546978,\n",
       " 'decl': 0.126243049656,\n",
       " 'raSigma': 0.00028,\n",
       " 'declSigma': 0.00028,\n",
       " 'ra_decl_Cov': 0.00029,\n",
       " 'x': 112.1,\n",
       " 'y': 121.1,\n",
       " 'xSigma': 1.2,\n",
       " 'ySigma': 1.1,\n",
       " 'x_y_Cov': 1.2,\n",
       " 'apFlux': -2.287318,\n",
       " 'apFluxErr': 0.79078186,\n",
       " 'snr': -2.8924766,\n",
       " 'psFlux': 1241.0,\n",
       " 'psFluxErr': 12.0,\n",
       " 'flags': 0}"
      ]
     },
     "execution_count": 34,
     "metadata": {},
     "output_type": "execute_result"
    }
   ],
   "source": [
    "alert['diaSource']"
   ]
  },
  {
   "cell_type": "markdown",
   "metadata": {},
   "source": [
    "## Converting to efficient avro format\n",
    "Now with the entire `alert_data` file, we have"
   ]
  },
  {
   "cell_type": "code",
   "execution_count": 36,
   "metadata": {},
   "outputs": [],
   "source": [
    "avro_bytes = schema.serialize(alert)\n",
    "messg = schema.deserialize(avro_bytes)\n",
    "iterNum=0\n",
    "with open(\"plasticcAlert_%s_%i.avro\"%(modelname,iterNum), \"wb\") as f:\n",
    "    schema.store_alerts(f, [alert])"
   ]
  },
  {
   "cell_type": "markdown",
   "metadata": {},
   "source": [
    "## Plot from the schema\n",
    "Taken from the ztf code https://github.com/ZwickyTransientFacility/ztf-avro-alert/blob/master/notebooks/Working_with_avro_files.ipynb"
   ]
  },
  {
   "cell_type": "code",
   "execution_count": 23,
   "metadata": {},
   "outputs": [],
   "source": [
    "def make_dataframe(packet):\n",
    "    df = pd.DataFrame(packet['diaSource'], index=[0])\n",
    "    df_prv = pd.DataFrame(packet['prvDiaSources'])\n",
    "    return pd.concat([df,df_prv], ignore_index=True)\n",
    "\n",
    "def plot_lightcurve(dflc, days_ago=True):\n",
    "    \n",
    "    filter_color = {'g':'green', 'r':'red', 'u':'pink'}\n",
    "    if days_ago:\n",
    "        now = Time.now().jd\n",
    "        t = dflc.midPointTai - now\n",
    "        xlabel = 'Days Ago'\n",
    "    else:\n",
    "        t = dflc.midPointTai\n",
    "        xlabel = 'Time (JD)'\n",
    "    \n",
    "    plt.figure()\n",
    "    for fid, color in filter_color.items():\n",
    "        # plot detections in this filter:\n",
    "        w = (dflc.filterName == fid) & ~dflc.psFlux.isnull()\n",
    "        if np.sum(w):\n",
    "            plt.errorbar(t[w],dflc.loc[w,'apFlux'], dflc.loc[w,'apFluxErr'],fmt='.',color=color)\n",
    "        #wnodet = (dflc.fid == fid) & dflc.magpsf.isnull()\n",
    "        #if np.sum(wnodet):\n",
    "         #   plt.scatter(t[wnodet],dflc.loc[wnodet,'diffmaglim'], marker='v',color=color,alpha=0.25)\n",
    "    \n",
    "    plt.gca().invert_yaxis()\n",
    "    plt.xlabel(xlabel)\n",
    "    plt.ylabel('Magnitude')"
   ]
  },
  {
   "cell_type": "code",
   "execution_count": 25,
   "metadata": {},
   "outputs": [],
   "source": [
    "dflc = make_dataframe(alert)\n",
    "#dflc"
   ]
  },
  {
   "cell_type": "code",
   "execution_count": 26,
   "metadata": {},
   "outputs": [
    {
     "data": {
      "image/png": "[encoded data removed]",
      "text/plain": [
       "<Figure size 432x288 with 1 Axes>"
      ]
     },
     "metadata": {
      "needs_background": "light"
     },
     "output_type": "display_data"
    }
   ],
   "source": [
    "plot_lightcurve(dflc)"
   ]
  },
  {
   "cell_type": "code",
   "execution_count": null,
   "metadata": {},
   "outputs": [],
   "source": []
  }
 ],
 "metadata": {
  "kernelspec": {
   "display_name": "Python 3",
   "language": "python",
   "name": "python3"
  },
  "language_info": {
   "codemirror_mode": {
    "name": "ipython",
    "version": 3
   },
   "file_extension": ".py",
   "mimetype": "text/x-python",
   "name": "python",
   "nbconvert_exporter": "python",
   "pygments_lexer": "ipython3",
   "version": "3.7.4"
  }
 },
 "nbformat": 4,
 "nbformat_minor": 4
}
